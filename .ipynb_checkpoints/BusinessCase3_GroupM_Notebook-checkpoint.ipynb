{
 "cells": [
  {
   "cell_type": "markdown",
   "metadata": {},
   "source": [
    "# Business Case 3"
   ]
  },
  {
   "cell_type": "markdown",
   "metadata": {},
   "source": [
    "## Instacart Market Basket Analysis"
   ]
  },
  {
   "cell_type": "markdown",
   "metadata": {},
   "source": [
    "#### Made by:\n",
    "* Catarina Candeias (m20200656@novaims.unl.pt)\n",
    "* Catarina Urbano (m20200607@novaims.unl.pt)\n",
    "* Margarida Pereira (m20201038@novaims.unl.pt)\n",
    "* Rita Ferreira (m20200661@novaims.unl.pt)"
   ]
  },
  {
   "cell_type": "markdown",
   "metadata": {},
   "source": [
    "### Table of contents:"
   ]
  },
  {
   "cell_type": "markdown",
   "metadata": {},
   "source": [
    "* [1. Business Understanding](#1)\n",
    "* [2. Data Understanding](#2)\n",
    "* [3. Data Preparation](#3)\n",
    "* [4. Modeling and Evaluation](#4)\n",
    "    * [4.1. Association Rules](#4.1)\n",
    "    * [4.2. Customers Segmentation by product](#4.2)\n",
    "* [5. Deployment](#5)"
   ]
  },
  {
   "cell_type": "markdown",
   "metadata": {},
   "source": [
    "# 1. Business Understanding <a class=\"anchor\" id=\"1\"></a>\n",
    "\n",
    "This section can be seen in detail in our report"
   ]
  },
  {
   "cell_type": "markdown",
   "metadata": {},
   "source": [
    "# 2. Data Understanding <a class=\"anchor\" id=\"2\"></a>"
   ]
  },
  {
   "cell_type": "markdown",
   "metadata": {},
   "source": [
    "#### Imports "
   ]
  },
  {
   "cell_type": "code",
   "execution_count": 1,
   "metadata": {},
   "outputs": [],
   "source": [
    "import os\n",
    "from pathlib import Path\n",
    "import pandas as pd\n",
    "# import pandas_profiling\n",
    "import numpy as np\n",
    "import matplotlib.pyplot as plt\n",
    "%matplotlib inline\n",
    "import seaborn as sns\n",
    "import math\n",
    "from datetime import datetime\n",
    "\n",
    "from mlxtend.frequent_patterns import apriori\n",
    "from mlxtend.frequent_patterns import association_rules\n",
    "\n",
    "sns.set_style(style='white')\n",
    "\n",
    "import warnings\n",
    "warnings.filterwarnings(\"always\", message='',category=FutureWarning)\n",
    "\n",
    "#to show all columns and rows when displaying a dataframe\n",
    "pd.set_option('display.max_columns', None)\n",
    "\n",
    "import warnings\n",
    "warnings.filterwarnings('ignore')\n",
    "\n",
    "from scipy import stats\n",
    "from scipy.stats import skew, norm, probplot, boxcox\n",
    "from sklearn import preprocessing\n",
    "import math\n",
    "\n",
    "import matplotlib.cm as cm \n",
    "\n",
    "from sklearn.cluster import KMeans\n",
    "from sklearn.metrics import silhouette_samples, silhouette_score\n",
    "from scipy import stats\n",
    "from scipy.stats import skew, norm, probplot, boxcox\n",
    "from sklearn import preprocessing\n",
    "import math\n",
    "\n",
    "from sklearn.cluster import KMeans\n",
    "from sklearn.metrics import silhouette_samples, silhouette_score\n",
    "\n",
    "from sklearn.metrics.pairwise import cosine_similarity\n",
    "from sklearn.metrics import mean_squared_error\n",
    "from sklearn.model_selection import train_test_split\n",
    "from sklearn.feature_extraction.text import TfidfVectorizer\n",
    "from sklearn.metrics.pairwise import linear_kernel\n",
    "from ast import literal_eval\n",
    "from sklearn.feature_extraction.text import CountVectorizer\n",
    "\n",
    "# Defining PROJECT_ROOT\n",
    "PROJECT_ROOT = Path(os.path.abspath('')).resolve().parents[0]"
   ]
  },
  {
   "cell_type": "code",
   "execution_count": 2,
   "metadata": {},
   "outputs": [],
   "source": [
    "# Load data \n",
    "departments = pd.read_csv('departments.csv')\n",
    "orders = pd.read_csv('orders.csv')\n",
    "products = pd.read_csv('products.csv')\n",
    "orderProducts = pd.read_csv('order_products.csv')"
   ]
  },
  {
   "cell_type": "markdown",
   "metadata": {},
   "source": [
    "- Users are identified by user_id in the orders.csv file. Each row of the orders.csv file represents an order made by a user. Order are identified by order_id.\n",
    "- Each order of a user is characterized by an order_number which specifies when it has been made with respect to the others of the same user.\n",
    "- Each order consists of a set of product each characterized by an add_to_cart_order feature representing the sequence in which they have been added to the cart in that order."
   ]
  },
  {
   "cell_type": "code",
   "execution_count": 3,
   "metadata": {
    "scrolled": true
   },
   "outputs": [
    {
     "name": "stdout",
     "output_type": "stream",
     "text": [
      "<class 'pandas.core.frame.DataFrame'>\n",
      "RangeIndex: 21 entries, 0 to 20\n",
      "Data columns (total 2 columns):\n",
      " #   Column         Non-Null Count  Dtype \n",
      "---  ------         --------------  ----- \n",
      " 0   department_id  21 non-null     int64 \n",
      " 1   department     21 non-null     object\n",
      "dtypes: int64(1), object(1)\n",
      "memory usage: 464.0+ bytes\n",
      "<class 'pandas.core.frame.DataFrame'>\n",
      "RangeIndex: 134 entries, 0 to 133\n",
      "Data columns (total 3 columns):\n",
      " #   Column         Non-Null Count  Dtype \n",
      "---  ------         --------------  ----- \n",
      " 0   product_id     134 non-null    int64 \n",
      " 1   department_id  134 non-null    int64 \n",
      " 2   product_name   134 non-null    object\n",
      "dtypes: int64(2), object(1)\n",
      "memory usage: 3.3+ KB\n",
      "<class 'pandas.core.frame.DataFrame'>\n",
      "RangeIndex: 2019501 entries, 0 to 2019500\n",
      "Data columns (total 4 columns):\n",
      " #   Column             Dtype\n",
      "---  ------             -----\n",
      " 0   order_id           int64\n",
      " 1   product_id         int64\n",
      " 2   add_to_cart_order  int64\n",
      " 3   reordered          int64\n",
      "dtypes: int64(4)\n",
      "memory usage: 61.6 MB\n",
      "<class 'pandas.core.frame.DataFrame'>\n",
      "RangeIndex: 200000 entries, 0 to 199999\n",
      "Data columns (total 6 columns):\n",
      " #   Column                  Non-Null Count   Dtype  \n",
      "---  ------                  --------------   -----  \n",
      " 0   order_id                200000 non-null  int64  \n",
      " 1   user_id                 200000 non-null  int64  \n",
      " 2   order_number            200000 non-null  int64  \n",
      " 3   order_dow               200000 non-null  int64  \n",
      " 4   order_hour_of_day       200000 non-null  int64  \n",
      " 5   days_since_prior_order  187746 non-null  float64\n",
      "dtypes: float64(1), int64(5)\n",
      "memory usage: 9.2 MB\n",
      "None None None None\n"
     ]
    }
   ],
   "source": [
    "print(departments.info(), products.info(), orderProducts.info(), orders.info())"
   ]
  },
  {
   "cell_type": "markdown",
   "metadata": {},
   "source": [
    "### Visualizations"
   ]
  },
  {
   "cell_type": "markdown",
   "metadata": {},
   "source": [
    "###### When Do People Generally Order?"
   ]
  },
  {
   "cell_type": "code",
   "execution_count": 4,
   "metadata": {},
   "outputs": [
    {
     "data": {
      "text/plain": [
       "Text(0.5, 0, 'Hour Of The Day')"
      ]
     },
     "execution_count": 4,
     "metadata": {},
     "output_type": "execute_result"
    },
    {
     "data": {
      "image/png": "[encoded data removed]",
      "text/plain": [
       "<Figure size 720x432 with 1 Axes>"
      ]
     },
     "metadata": {},
     "output_type": "display_data"
    }
   ],
   "source": [
    "plt.figure(figsize=(10, 6))\n",
    "sns.set(style=\"whitegrid\")\n",
    "ax = sns.countplot(data=orders,x=\"order_hour_of_day\", color='green')\n",
    "plt.title(\"Order Count Across Hour Of The Day\")\n",
    "plt.xlabel('Hour Of The Day')"
   ]
  },
  {
   "cell_type": "markdown",
   "metadata": {},
   "source": [
    "The majority of the orders are made during day time"
   ]
  },
  {
   "cell_type": "markdown",
   "metadata": {},
   "source": [
    "###### At What Day Of The Week People Order?"
   ]
  },
  {
   "cell_type": "code",
   "execution_count": 5,
   "metadata": {},
   "outputs": [
    {
     "data": {
      "text/plain": [
       "Text(0.5, 0, 'Day Of The Week')"
      ]
     },
     "execution_count": 5,
     "metadata": {},
     "output_type": "execute_result"
    },
    {
     "data": {
      "image/png": "[encoded data removed]",
      "text/plain": [
       "<Figure size 720x432 with 1 Axes>"
      ]
     },
     "metadata": {},
     "output_type": "display_data"
    }
   ],
   "source": [
    "plt.figure(figsize=(10,6))\n",
    "ordersDay = orders[[\"order_dow\"]].replace({0:\"Sunday\",1:\"Monday\",2:\"Tuesday\",3:\"Wednesday\",4:\"Thursday\",5:\"Friday\",6:\"Saturday\"})\n",
    "sns.countplot(data=ordersDay,x=\"order_dow\",color='green')\n",
    "plt.title(\"Order Count Across Days Of The Week\")\n",
    "plt.xlabel('Day Of The Week')"
   ]
  },
  {
   "cell_type": "markdown",
   "metadata": {},
   "source": [
    "##### Best Selling Products"
   ]
  },
  {
   "cell_type": "code",
   "execution_count": 6,
   "metadata": {
    "scrolled": false
   },
   "outputs": [
    {
     "data": {
      "text/html": [
       "<div>\n",
       "<style scoped>\n",
       "    .dataframe tbody tr th:only-of-type {\n",
       "        vertical-align: middle;\n",
       "    }\n",
       "\n",
       "    .dataframe tbody tr th {\n",
       "        vertical-align: top;\n",
       "    }\n",
       "\n",
       "    .dataframe thead th {\n",
       "        text-align: right;\n",
       "    }\n",
       "</style>\n",
       "<table border=\"1\" class=\"dataframe\">\n",
       "  <thead>\n",
       "    <tr style=\"text-align: right;\">\n",
       "      <th></th>\n",
       "      <th>product_id</th>\n",
       "      <th>count</th>\n",
       "      <th>department_id</th>\n",
       "      <th>product_name</th>\n",
       "    </tr>\n",
       "  </thead>\n",
       "  <tbody>\n",
       "    <tr>\n",
       "      <th>0</th>\n",
       "      <td>24</td>\n",
       "      <td>226039</td>\n",
       "      <td>4</td>\n",
       "      <td>fresh fruits</td>\n",
       "    </tr>\n",
       "    <tr>\n",
       "      <th>1</th>\n",
       "      <td>83</td>\n",
       "      <td>212611</td>\n",
       "      <td>4</td>\n",
       "      <td>fresh vegetables</td>\n",
       "    </tr>\n",
       "    <tr>\n",
       "      <th>2</th>\n",
       "      <td>123</td>\n",
       "      <td>109596</td>\n",
       "      <td>4</td>\n",
       "      <td>packaged vegetables fruits</td>\n",
       "    </tr>\n",
       "    <tr>\n",
       "      <th>3</th>\n",
       "      <td>120</td>\n",
       "      <td>90751</td>\n",
       "      <td>16</td>\n",
       "      <td>yogurt</td>\n",
       "    </tr>\n",
       "    <tr>\n",
       "      <th>4</th>\n",
       "      <td>21</td>\n",
       "      <td>61502</td>\n",
       "      <td>16</td>\n",
       "      <td>packaged cheese</td>\n",
       "    </tr>\n",
       "    <tr>\n",
       "      <th>5</th>\n",
       "      <td>84</td>\n",
       "      <td>55150</td>\n",
       "      <td>16</td>\n",
       "      <td>milk</td>\n",
       "    </tr>\n",
       "    <tr>\n",
       "      <th>6</th>\n",
       "      <td>115</td>\n",
       "      <td>52564</td>\n",
       "      <td>7</td>\n",
       "      <td>water seltzer sparkling water</td>\n",
       "    </tr>\n",
       "    <tr>\n",
       "      <th>7</th>\n",
       "      <td>107</td>\n",
       "      <td>45306</td>\n",
       "      <td>19</td>\n",
       "      <td>chips pretzels</td>\n",
       "    </tr>\n",
       "    <tr>\n",
       "      <th>8</th>\n",
       "      <td>91</td>\n",
       "      <td>39389</td>\n",
       "      <td>16</td>\n",
       "      <td>soy lactosefree</td>\n",
       "    </tr>\n",
       "    <tr>\n",
       "      <th>9</th>\n",
       "      <td>112</td>\n",
       "      <td>36381</td>\n",
       "      <td>3</td>\n",
       "      <td>bread</td>\n",
       "    </tr>\n",
       "  </tbody>\n",
       "</table>\n",
       "</div>"
      ],
      "text/plain": [
       "   product_id   count  department_id                   product_name\n",
       "0          24  226039              4                   fresh fruits\n",
       "1          83  212611              4               fresh vegetables\n",
       "2         123  109596              4     packaged vegetables fruits\n",
       "3         120   90751             16                         yogurt\n",
       "4          21   61502             16                packaged cheese\n",
       "5          84   55150             16                           milk\n",
       "6         115   52564              7  water seltzer sparkling water\n",
       "7         107   45306             19                 chips pretzels\n",
       "8          91   39389             16                soy lactosefree\n",
       "9         112   36381              3                          bread"
      ]
     },
     "execution_count": 6,
     "metadata": {},
     "output_type": "execute_result"
    }
   ],
   "source": [
    "productsCount = orderProducts[\"product_id\"].value_counts().to_frame()\n",
    "productsCount[\"count\"] = productsCount.product_id\n",
    "productsCount[\"product_id\"] = productsCount.index\n",
    "mergedData = pd.merge(productsCount,products,how=\"left\",on=\"product_id\").sort_values(by=\"count\",ascending=False)\n",
    "mergedData.head(10)"
   ]
  },
  {
   "cell_type": "code",
   "execution_count": 7,
   "metadata": {
    "scrolled": true
   },
   "outputs": [
    {
     "data": {
      "text/plain": [
       "Text(0, 0.5, 'Count')"
      ]
     },
     "execution_count": 7,
     "metadata": {},
     "output_type": "execute_result"
    },
    {
     "data": {
      "image/png": "[encoded data removed]",
      "text/plain": [
       "<Figure size 1080x648 with 1 Axes>"
      ]
     },
     "metadata": {},
     "output_type": "display_data"
    }
   ],
   "source": [
    "plt.figure(figsize=(15,9))\n",
    "sns.barplot(data=mergedData.head(30),x=\"product_name\",y=\"count\",orient=\"v\",color='green')\n",
    "plt.xticks(rotation=90)\n",
    "plt.title(\"Best Selling Products\")\n",
    "plt.xlabel('Product Names')\n",
    "plt.ylabel(\"Count\")"
   ]
  },
  {
   "cell_type": "markdown",
   "metadata": {},
   "source": [
    "##### Top Reordered Products"
   ]
  },
  {
   "cell_type": "code",
   "execution_count": 8,
   "metadata": {},
   "outputs": [
    {
     "data": {
      "text/html": [
       "<div>\n",
       "<style scoped>\n",
       "    .dataframe tbody tr th:only-of-type {\n",
       "        vertical-align: middle;\n",
       "    }\n",
       "\n",
       "    .dataframe tbody tr th {\n",
       "        vertical-align: top;\n",
       "    }\n",
       "\n",
       "    .dataframe thead th {\n",
       "        text-align: right;\n",
       "    }\n",
       "</style>\n",
       "<table border=\"1\" class=\"dataframe\">\n",
       "  <thead>\n",
       "    <tr style=\"text-align: right;\">\n",
       "      <th></th>\n",
       "      <th>product_id</th>\n",
       "      <th>count</th>\n",
       "      <th>reordered_count</th>\n",
       "      <th>reordered_ratio</th>\n",
       "      <th>department_id</th>\n",
       "      <th>product_name</th>\n",
       "    </tr>\n",
       "  </thead>\n",
       "  <tbody>\n",
       "    <tr>\n",
       "      <th>0</th>\n",
       "      <td>84</td>\n",
       "      <td>55150</td>\n",
       "      <td>43162</td>\n",
       "      <td>0.782629</td>\n",
       "      <td>16</td>\n",
       "      <td>milk</td>\n",
       "    </tr>\n",
       "    <tr>\n",
       "      <th>1</th>\n",
       "      <td>115</td>\n",
       "      <td>52564</td>\n",
       "      <td>38467</td>\n",
       "      <td>0.731813</td>\n",
       "      <td>7</td>\n",
       "      <td>water seltzer sparkling water</td>\n",
       "    </tr>\n",
       "    <tr>\n",
       "      <th>2</th>\n",
       "      <td>24</td>\n",
       "      <td>226039</td>\n",
       "      <td>162355</td>\n",
       "      <td>0.718261</td>\n",
       "      <td>4</td>\n",
       "      <td>fresh fruits</td>\n",
       "    </tr>\n",
       "    <tr>\n",
       "      <th>3</th>\n",
       "      <td>86</td>\n",
       "      <td>27986</td>\n",
       "      <td>19798</td>\n",
       "      <td>0.707425</td>\n",
       "      <td>16</td>\n",
       "      <td>eggs</td>\n",
       "    </tr>\n",
       "    <tr>\n",
       "      <th>4</th>\n",
       "      <td>91</td>\n",
       "      <td>39389</td>\n",
       "      <td>27251</td>\n",
       "      <td>0.691843</td>\n",
       "      <td>16</td>\n",
       "      <td>soy lactosefree</td>\n",
       "    </tr>\n",
       "    <tr>\n",
       "      <th>5</th>\n",
       "      <td>32</td>\n",
       "      <td>17408</td>\n",
       "      <td>12021</td>\n",
       "      <td>0.690545</td>\n",
       "      <td>4</td>\n",
       "      <td>packaged produce</td>\n",
       "    </tr>\n",
       "    <tr>\n",
       "      <th>6</th>\n",
       "      <td>53</td>\n",
       "      <td>19786</td>\n",
       "      <td>13625</td>\n",
       "      <td>0.688618</td>\n",
       "      <td>16</td>\n",
       "      <td>cream</td>\n",
       "    </tr>\n",
       "    <tr>\n",
       "      <th>7</th>\n",
       "      <td>120</td>\n",
       "      <td>90751</td>\n",
       "      <td>62464</td>\n",
       "      <td>0.688301</td>\n",
       "      <td>16</td>\n",
       "      <td>yogurt</td>\n",
       "    </tr>\n",
       "    <tr>\n",
       "      <th>8</th>\n",
       "      <td>112</td>\n",
       "      <td>36381</td>\n",
       "      <td>24540</td>\n",
       "      <td>0.674528</td>\n",
       "      <td>3</td>\n",
       "      <td>bread</td>\n",
       "    </tr>\n",
       "    <tr>\n",
       "      <th>9</th>\n",
       "      <td>31</td>\n",
       "      <td>35893</td>\n",
       "      <td>23854</td>\n",
       "      <td>0.664586</td>\n",
       "      <td>7</td>\n",
       "      <td>refrigerated</td>\n",
       "    </tr>\n",
       "  </tbody>\n",
       "</table>\n",
       "</div>"
      ],
      "text/plain": [
       "   product_id   count  reordered_count  reordered_ratio  department_id  \\\n",
       "0          84   55150            43162         0.782629             16   \n",
       "1         115   52564            38467         0.731813              7   \n",
       "2          24  226039           162355         0.718261              4   \n",
       "3          86   27986            19798         0.707425             16   \n",
       "4          91   39389            27251         0.691843             16   \n",
       "5          32   17408            12021         0.690545              4   \n",
       "6          53   19786            13625         0.688618             16   \n",
       "7         120   90751            62464         0.688301             16   \n",
       "8         112   36381            24540         0.674528              3   \n",
       "9          31   35893            23854         0.664586              7   \n",
       "\n",
       "                    product_name  \n",
       "0                           milk  \n",
       "1  water seltzer sparkling water  \n",
       "2                   fresh fruits  \n",
       "3                           eggs  \n",
       "4                soy lactosefree  \n",
       "5               packaged produce  \n",
       "6                          cream  \n",
       "7                         yogurt  \n",
       "8                          bread  \n",
       "9                   refrigerated  "
      ]
     },
     "execution_count": 8,
     "metadata": {},
     "output_type": "execute_result"
    }
   ],
   "source": [
    "productsCountReordered = orderProducts[orderProducts[\"reordered\"]==1][\"product_id\"].value_counts().to_frame()\n",
    "productsCountReordered[\"reordered_count\"] = productsCountReordered.product_id\n",
    "productsCountReordered[\"product_id\"] = productsCountReordered.index\n",
    "productCountReorderedMerged = pd.merge(productsCount,productsCountReordered,how=\"left\",on=\"product_id\").sort_values(by=\"count\",ascending=False)\n",
    "productCountReorderedMerged[\"reordered_ratio\"] = productCountReorderedMerged[\"reordered_count\"]/productCountReorderedMerged[\"count\"]\n",
    "productCountReorderedMerged.sort_values(by=\"reordered_ratio\",ascending=False,inplace=True)\n",
    "productMerged = pd.merge(productCountReorderedMerged,products,how=\"left\",on=\"product_id\")\n",
    "productMerged.head(10)"
   ]
  },
  {
   "cell_type": "markdown",
   "metadata": {},
   "source": [
    "##### Which item do people put into the cart first?"
   ]
  },
  {
   "cell_type": "code",
   "execution_count": 9,
   "metadata": {},
   "outputs": [
    {
     "data": {
      "text/html": [
       "<div>\n",
       "<style scoped>\n",
       "    .dataframe tbody tr th:only-of-type {\n",
       "        vertical-align: middle;\n",
       "    }\n",
       "\n",
       "    .dataframe tbody tr th {\n",
       "        vertical-align: top;\n",
       "    }\n",
       "\n",
       "    .dataframe thead th {\n",
       "        text-align: right;\n",
       "    }\n",
       "</style>\n",
       "<table border=\"1\" class=\"dataframe\">\n",
       "  <thead>\n",
       "    <tr style=\"text-align: right;\">\n",
       "      <th></th>\n",
       "      <th>product_id</th>\n",
       "      <th>count</th>\n",
       "      <th>reordered_count</th>\n",
       "      <th>first_ordered_ratio</th>\n",
       "      <th>department_id</th>\n",
       "      <th>product_name</th>\n",
       "    </tr>\n",
       "  </thead>\n",
       "  <tbody>\n",
       "    <tr>\n",
       "      <th>0</th>\n",
       "      <td>134</td>\n",
       "      <td>614</td>\n",
       "      <td>186</td>\n",
       "      <td>0.302932</td>\n",
       "      <td>5</td>\n",
       "      <td>specialty wines champagnes</td>\n",
       "    </tr>\n",
       "    <tr>\n",
       "      <th>1</th>\n",
       "      <td>124</td>\n",
       "      <td>1795</td>\n",
       "      <td>519</td>\n",
       "      <td>0.289136</td>\n",
       "      <td>5</td>\n",
       "      <td>spirits</td>\n",
       "    </tr>\n",
       "    <tr>\n",
       "      <th>2</th>\n",
       "      <td>62</td>\n",
       "      <td>1893</td>\n",
       "      <td>424</td>\n",
       "      <td>0.223983</td>\n",
       "      <td>5</td>\n",
       "      <td>white wines</td>\n",
       "    </tr>\n",
       "    <tr>\n",
       "      <th>3</th>\n",
       "      <td>27</td>\n",
       "      <td>3002</td>\n",
       "      <td>659</td>\n",
       "      <td>0.219520</td>\n",
       "      <td>5</td>\n",
       "      <td>beers coolers</td>\n",
       "    </tr>\n",
       "    <tr>\n",
       "      <th>4</th>\n",
       "      <td>84</td>\n",
       "      <td>55150</td>\n",
       "      <td>11834</td>\n",
       "      <td>0.214578</td>\n",
       "      <td>16</td>\n",
       "      <td>milk</td>\n",
       "    </tr>\n",
       "    <tr>\n",
       "      <th>5</th>\n",
       "      <td>115</td>\n",
       "      <td>52564</td>\n",
       "      <td>10148</td>\n",
       "      <td>0.193060</td>\n",
       "      <td>7</td>\n",
       "      <td>water seltzer sparkling water</td>\n",
       "    </tr>\n",
       "    <tr>\n",
       "      <th>6</th>\n",
       "      <td>32</td>\n",
       "      <td>17408</td>\n",
       "      <td>3178</td>\n",
       "      <td>0.182560</td>\n",
       "      <td>4</td>\n",
       "      <td>packaged produce</td>\n",
       "    </tr>\n",
       "    <tr>\n",
       "      <th>7</th>\n",
       "      <td>28</td>\n",
       "      <td>2135</td>\n",
       "      <td>384</td>\n",
       "      <td>0.179859</td>\n",
       "      <td>5</td>\n",
       "      <td>red wines</td>\n",
       "    </tr>\n",
       "    <tr>\n",
       "      <th>8</th>\n",
       "      <td>77</td>\n",
       "      <td>22428</td>\n",
       "      <td>3893</td>\n",
       "      <td>0.173578</td>\n",
       "      <td>7</td>\n",
       "      <td>soft drinks</td>\n",
       "    </tr>\n",
       "    <tr>\n",
       "      <th>9</th>\n",
       "      <td>11</td>\n",
       "      <td>1589</td>\n",
       "      <td>257</td>\n",
       "      <td>0.161737</td>\n",
       "      <td>11</td>\n",
       "      <td>cold flu allergy</td>\n",
       "    </tr>\n",
       "  </tbody>\n",
       "</table>\n",
       "</div>"
      ],
      "text/plain": [
       "   product_id  count  reordered_count  first_ordered_ratio  department_id  \\\n",
       "0         134    614              186             0.302932              5   \n",
       "1         124   1795              519             0.289136              5   \n",
       "2          62   1893              424             0.223983              5   \n",
       "3          27   3002              659             0.219520              5   \n",
       "4          84  55150            11834             0.214578             16   \n",
       "5         115  52564            10148             0.193060              7   \n",
       "6          32  17408             3178             0.182560              4   \n",
       "7          28   2135              384             0.179859              5   \n",
       "8          77  22428             3893             0.173578              7   \n",
       "9          11   1589              257             0.161737             11   \n",
       "\n",
       "                    product_name  \n",
       "0     specialty wines champagnes  \n",
       "1                        spirits  \n",
       "2                    white wines  \n",
       "3                  beers coolers  \n",
       "4                           milk  \n",
       "5  water seltzer sparkling water  \n",
       "6               packaged produce  \n",
       "7                      red wines  \n",
       "8                    soft drinks  \n",
       "9               cold flu allergy  "
      ]
     },
     "execution_count": 9,
     "metadata": {},
     "output_type": "execute_result"
    }
   ],
   "source": [
    "productsCountFirst = orderProducts[orderProducts[\"add_to_cart_order\"]==1][\"product_id\"].value_counts().to_frame()\n",
    "productsCountFirst[\"reordered_count\"] = productsCountFirst.product_id\n",
    "productsCountFirst[\"product_id\"] = productsCountFirst.index\n",
    "productCountFirstMerged = pd.merge(productsCount,productsCountFirst,how=\"left\",on=\"product_id\").sort_values(by=\"count\",ascending=False)\n",
    "productCountFirstMerged[\"first_ordered_ratio\"] = productCountFirstMerged[\"reordered_count\"]/productCountFirstMerged[\"count\"]\n",
    "productCountFirstMerged.sort_values(by=\"first_ordered_ratio\",ascending=False,inplace=True)\n",
    "firstMerged = pd.merge(productCountFirstMerged,products,how=\"left\",on=\"product_id\")\n",
    "firstMerged.head(10)"
   ]
  },
  {
   "cell_type": "markdown",
   "metadata": {},
   "source": [
    "##### Do people usually reorder the same previous ordered products ?"
   ]
  },
  {
   "cell_type": "code",
   "execution_count": 10,
   "metadata": {
    "scrolled": true
   },
   "outputs": [
    {
     "data": {
      "text/html": [
       "<div>\n",
       "<style scoped>\n",
       "    .dataframe tbody tr th:only-of-type {\n",
       "        vertical-align: middle;\n",
       "    }\n",
       "\n",
       "    .dataframe tbody tr th {\n",
       "        vertical-align: top;\n",
       "    }\n",
       "\n",
       "    .dataframe thead th {\n",
       "        text-align: right;\n",
       "    }\n",
       "</style>\n",
       "<table border=\"1\" class=\"dataframe\">\n",
       "  <thead>\n",
       "    <tr style=\"text-align: right;\">\n",
       "      <th></th>\n",
       "      <th>reordered</th>\n",
       "      <th>Total_products</th>\n",
       "      <th>Ratios</th>\n",
       "    </tr>\n",
       "  </thead>\n",
       "  <tbody>\n",
       "    <tr>\n",
       "      <th>0</th>\n",
       "      <td>0</td>\n",
       "      <td>828515</td>\n",
       "      <td>0.410257</td>\n",
       "    </tr>\n",
       "    <tr>\n",
       "      <th>1</th>\n",
       "      <td>1</td>\n",
       "      <td>1190986</td>\n",
       "      <td>0.589743</td>\n",
       "    </tr>\n",
       "  </tbody>\n",
       "</table>\n",
       "</div>"
      ],
      "text/plain": [
       "   reordered  Total_products    Ratios\n",
       "0          0          828515  0.410257\n",
       "1          1         1190986  0.589743"
      ]
     },
     "execution_count": 10,
     "metadata": {},
     "output_type": "execute_result"
    }
   ],
   "source": [
    "grouped = orderProducts.groupby(\"reordered\")[\"product_id\"].aggregate(['count']).reset_index()\n",
    "grouped['Ratios'] = grouped[\"count\"].apply(lambda x: x /grouped['count'].sum())\n",
    "grouped.rename(columns = {'count':'Total_products'}, inplace = True)\n",
    "grouped"
   ]
  },
  {
   "cell_type": "markdown",
   "metadata": {},
   "source": [
    "Approximately 59 % of ordered products are previously ordered by customers.\n"
   ]
  },
  {
   "cell_type": "markdown",
   "metadata": {},
   "source": [
    "###### Total Orders and Reorders From Departments\n"
   ]
  },
  {
   "cell_type": "code",
   "execution_count": 11,
   "metadata": {},
   "outputs": [],
   "source": [
    "order_products = orderProducts.merge(products, on ='product_id', how='left')\n",
    "order_products = order_products.merge(departments, on ='department_id', how='left')"
   ]
  },
  {
   "cell_type": "code",
   "execution_count": 12,
   "metadata": {},
   "outputs": [],
   "source": [
    "temp_df = order_products.groupby(\"department\")[\"reordered\"].agg(['count', 'sum']).rename(columns = {'count':'total','sum':'reorders'})\n",
    "temp_df = temp_df.sort_values('total', ascending=False).reset_index()"
   ]
  },
  {
   "cell_type": "code",
   "execution_count": 13,
   "metadata": {},
   "outputs": [
    {
     "data": {
      "image/png": "[encoded data removed]",
      "text/plain": [
       "<Figure size 576x432 with 1 Axes>"
      ]
     },
     "metadata": {},
     "output_type": "display_data"
    }
   ],
   "source": [
    "w = pd.merge(firstMerged, departments, on='department_id', how='left')\n",
    "w = w.groupby('department')['product_id'].count().to_frame()\n",
    "\n",
    "ig, ax = plt.subplots(figsize=(8,6))\n",
    "\n",
    "sns.barplot(x=w.index, y=w['product_id'], ax=ax, data=w,  color='green')\n",
    "\n",
    "ax.set_title(\"Number of products by department\", fontdict={'fontsize':15})\n",
    "\n",
    "ax.set_xlabel('Department', fontdict={'fontsize':14})\n",
    "\n",
    "ax.set_ylabel('')\n",
    "\n",
    "ax.tick_params(labelsize=14, rotation = -90)\n",
    "\n",
    "ax.spines['bottom'].set_linewidth(2.5)\n",
    "\n",
    "for axis in ['top', 'right', 'left']: \n",
    "    ax.spines[axis].set_color(None)\n",
    "\n",
    "ax.tick_params(axis='y', rotation=0)\n",
    "\n",
    "ig.show()"
   ]
  },
  {
   "cell_type": "code",
   "execution_count": 14,
   "metadata": {},
   "outputs": [],
   "source": [
    "merge = pd.merge(orderProducts, products, how='left', on='product_id')\n",
    "merge = pd.merge(merge, departments, how='left', on='department_id')\n",
    "z = merge.groupby('department')['order_id'].count().to_frame()"
   ]
  },
  {
   "cell_type": "code",
   "execution_count": 15,
   "metadata": {},
   "outputs": [
    {
     "data": {
      "image/png": "[encoded data removed]",
      "text/plain": [
       "<Figure size 576x432 with 1 Axes>"
      ]
     },
     "metadata": {},
     "output_type": "display_data"
    }
   ],
   "source": [
    "ig, ax = plt.subplots(figsize=(8,6))\n",
    "\n",
    "sns.barplot(x=z.index, y=z['order_id'], ax=ax, data=z,  color='green')\n",
    "\n",
    "ax.set_title(\"Number of orders by department\", fontdict={'fontsize':15})\n",
    "\n",
    "ax.set_xlabel('Department', fontdict={'fontsize':14})\n",
    "\n",
    "ax.set_ylabel('')\n",
    "\n",
    "ax.tick_params(labelsize=14, rotation = -90)\n",
    "\n",
    "ax.spines['bottom'].set_linewidth(2.5)\n",
    "\n",
    "for axis in ['top', 'right', 'left']:\n",
    "    ax.spines[axis].set_color(None)\n",
    "\n",
    "ax.tick_params(axis='y', rotation=0)\n",
    "\n",
    "ig.show()"
   ]
  },
  {
   "cell_type": "code",
   "execution_count": 16,
   "metadata": {},
   "outputs": [
    {
     "data": {
      "image/png": "[encoded data removed]",
      "text/plain": [
       "<Figure size 864x576 with 1 Axes>"
      ]
     },
     "metadata": {},
     "output_type": "display_data"
    }
   ],
   "source": [
    "plt.figure(figsize=(12,8))\n",
    "sns.countplot(x=\"order_hour_of_day\", data=orders, color='green')\n",
    "plt.ylabel('Count', fontsize=12)\n",
    "plt.xlabel('Hour of day', fontsize=12)\n",
    "plt.title(\"Frequency of order by hour of day\", fontsize=15)\n",
    "plt.show()"
   ]
  },
  {
   "cell_type": "code",
   "execution_count": 17,
   "metadata": {},
   "outputs": [
    {
     "data": {
      "image/png": "[encoded data removed]",
      "text/plain": [
       "<Figure size 864x432 with 2 Axes>"
      ]
     },
     "metadata": {},
     "output_type": "display_data"
    }
   ],
   "source": [
    "grouped_df = orders.groupby([\"order_dow\", \"order_hour_of_day\"])[\"order_number\"].aggregate(\"count\").reset_index()\n",
    "grouped_df = grouped_df.pivot('order_dow', 'order_hour_of_day', 'order_number')\n",
    "\n",
    "plt.figure(figsize=(12,6))\n",
    "sns.heatmap(grouped_df, cmap='Greens')\n",
    "plt.title(\"Frequency of Day of week Vs Hour of day\")\n",
    "plt.show()"
   ]
  },
  {
   "cell_type": "code",
   "execution_count": 18,
   "metadata": {},
   "outputs": [
    {
     "data": {
      "image/png": "[encoded data removed]",
      "text/plain": [
       "<Figure size 864x576 with 1 Axes>"
      ]
     },
     "metadata": {},
     "output_type": "display_data"
    }
   ],
   "source": [
    "plt.figure(figsize=(12,8))\n",
    "sns.countplot(x=\"days_since_prior_order\", data=orders, color='green')\n",
    "plt.ylabel('Count', fontsize=12)\n",
    "plt.xlabel('Days since prior order', fontsize=12)\n",
    "plt.title(\"Frequency distribution by days since prior order\", fontsize=15)\n",
    "plt.show()"
   ]
  },
  {
   "cell_type": "code",
   "execution_count": 19,
   "metadata": {},
   "outputs": [
    {
     "data": {
      "image/png": "[encoded data removed]",
      "text/plain": [
       "<Figure size 1152x576 with 1 Axes>"
      ]
     },
     "metadata": {},
     "output_type": "display_data"
    }
   ],
   "source": [
    "grouped_df = orderProducts.groupby(\"order_id\")[\"add_to_cart_order\"].aggregate(\"max\").reset_index()\n",
    "cnt_srs = grouped_df.add_to_cart_order.value_counts()\n",
    "\n",
    "plt.figure(figsize=(16,8))\n",
    "sns.barplot(cnt_srs.index, cnt_srs.values, alpha=0.8, color='green')\n",
    "plt.ylabel('Number of Occurrences', fontsize=12)\n",
    "plt.xlabel('Number of products in the given order', fontsize=12)\n",
    "plt.xticks(rotation='vertical')\n",
    "plt.show()"
   ]
  },
  {
   "cell_type": "code",
   "execution_count": 20,
   "metadata": {},
   "outputs": [
    {
     "data": {
      "image/png": "[encoded data removed]",
      "text/plain": [
       "<Figure size 864x576 with 1 Axes>"
      ]
     },
     "metadata": {},
     "output_type": "display_data"
    }
   ],
   "source": [
    "grouped_df = merge.groupby([\"department_id\"])[\"reordered\"].aggregate(\"mean\").reset_index()\n",
    "grouped_df[\"department_id\"] = grouped_df[\"department_id\"].map({(i+1):dep for i,dep in enumerate(departments['department'].values)})\n",
    "\n",
    "plt.figure(figsize=(12,8))\n",
    "sns.pointplot(grouped_df['department_id'].values, grouped_df['reordered'].values, alpha=0.8, color='green')\n",
    "plt.ylabel('Reorder ratio', fontsize=12)\n",
    "plt.xlabel('Department', fontsize=12)\n",
    "plt.title(\"Department wise reorder ratio\", fontsize=15)\n",
    "plt.xticks(rotation='vertical')#\n",
    "plt.show()"
   ]
  },
  {
   "cell_type": "code",
   "execution_count": 21,
   "metadata": {},
   "outputs": [
    {
     "data": {
      "text/html": [
       "<div>\n",
       "<style scoped>\n",
       "    .dataframe tbody tr th:only-of-type {\n",
       "        vertical-align: middle;\n",
       "    }\n",
       "\n",
       "    .dataframe tbody tr th {\n",
       "        vertical-align: top;\n",
       "    }\n",
       "\n",
       "    .dataframe thead th {\n",
       "        text-align: right;\n",
       "    }\n",
       "</style>\n",
       "<table border=\"1\" class=\"dataframe\">\n",
       "  <thead>\n",
       "    <tr style=\"text-align: right;\">\n",
       "      <th></th>\n",
       "      <th>department_id</th>\n",
       "      <th>reordered</th>\n",
       "    </tr>\n",
       "  </thead>\n",
       "  <tbody>\n",
       "    <tr>\n",
       "      <th>15</th>\n",
       "      <td>dairy eggs</td>\n",
       "      <td>0.670193</td>\n",
       "    </tr>\n",
       "    <tr>\n",
       "      <th>6</th>\n",
       "      <td>beverages</td>\n",
       "      <td>0.654967</td>\n",
       "    </tr>\n",
       "    <tr>\n",
       "      <th>3</th>\n",
       "      <td>produce</td>\n",
       "      <td>0.649283</td>\n",
       "    </tr>\n",
       "    <tr>\n",
       "      <th>2</th>\n",
       "      <td>bakery</td>\n",
       "      <td>0.629859</td>\n",
       "    </tr>\n",
       "    <tr>\n",
       "      <th>19</th>\n",
       "      <td>deli</td>\n",
       "      <td>0.612449</td>\n",
       "    </tr>\n",
       "    <tr>\n",
       "      <th>7</th>\n",
       "      <td>pets</td>\n",
       "      <td>0.604357</td>\n",
       "    </tr>\n",
       "    <tr>\n",
       "      <th>17</th>\n",
       "      <td>babies</td>\n",
       "      <td>0.580918</td>\n",
       "    </tr>\n",
       "    <tr>\n",
       "      <th>9</th>\n",
       "      <td>bulk</td>\n",
       "      <td>0.576653</td>\n",
       "    </tr>\n",
       "    <tr>\n",
       "      <th>18</th>\n",
       "      <td>snacks</td>\n",
       "      <td>0.574370</td>\n",
       "    </tr>\n",
       "    <tr>\n",
       "      <th>11</th>\n",
       "      <td>meat seafood</td>\n",
       "      <td>0.572067</td>\n",
       "    </tr>\n",
       "    <tr>\n",
       "      <th>13</th>\n",
       "      <td>breakfast</td>\n",
       "      <td>0.561507</td>\n",
       "    </tr>\n",
       "    <tr>\n",
       "      <th>4</th>\n",
       "      <td>alcohol</td>\n",
       "      <td>0.557686</td>\n",
       "    </tr>\n",
       "    <tr>\n",
       "      <th>0</th>\n",
       "      <td>frozen</td>\n",
       "      <td>0.538463</td>\n",
       "    </tr>\n",
       "    <tr>\n",
       "      <th>8</th>\n",
       "      <td>dry goods pasta</td>\n",
       "      <td>0.460317</td>\n",
       "    </tr>\n",
       "    <tr>\n",
       "      <th>14</th>\n",
       "      <td>canned goods</td>\n",
       "      <td>0.458178</td>\n",
       "    </tr>\n",
       "    <tr>\n",
       "      <th>1</th>\n",
       "      <td>other</td>\n",
       "      <td>0.404018</td>\n",
       "    </tr>\n",
       "    <tr>\n",
       "      <th>16</th>\n",
       "      <td>household</td>\n",
       "      <td>0.402144</td>\n",
       "    </tr>\n",
       "    <tr>\n",
       "      <th>20</th>\n",
       "      <td>missing</td>\n",
       "      <td>0.391661</td>\n",
       "    </tr>\n",
       "    <tr>\n",
       "      <th>5</th>\n",
       "      <td>international</td>\n",
       "      <td>0.360796</td>\n",
       "    </tr>\n",
       "    <tr>\n",
       "      <th>12</th>\n",
       "      <td>pantry</td>\n",
       "      <td>0.347947</td>\n",
       "    </tr>\n",
       "    <tr>\n",
       "      <th>10</th>\n",
       "      <td>personal care</td>\n",
       "      <td>0.326687</td>\n",
       "    </tr>\n",
       "  </tbody>\n",
       "</table>\n",
       "</div>"
      ],
      "text/plain": [
       "      department_id  reordered\n",
       "15       dairy eggs   0.670193\n",
       "6         beverages   0.654967\n",
       "3           produce   0.649283\n",
       "2            bakery   0.629859\n",
       "19             deli   0.612449\n",
       "7              pets   0.604357\n",
       "17           babies   0.580918\n",
       "9              bulk   0.576653\n",
       "18           snacks   0.574370\n",
       "11     meat seafood   0.572067\n",
       "13        breakfast   0.561507\n",
       "4           alcohol   0.557686\n",
       "0            frozen   0.538463\n",
       "8   dry goods pasta   0.460317\n",
       "14     canned goods   0.458178\n",
       "1             other   0.404018\n",
       "16        household   0.402144\n",
       "20          missing   0.391661\n",
       "5     international   0.360796\n",
       "12           pantry   0.347947\n",
       "10    personal care   0.326687"
      ]
     },
     "execution_count": 21,
     "metadata": {},
     "output_type": "execute_result"
    }
   ],
   "source": [
    "grouped_df.sort_values(by='reordered', ascending=False)"
   ]
  },
  {
   "cell_type": "code",
   "execution_count": 22,
   "metadata": {},
   "outputs": [
    {
     "data": {
      "text/html": [
       "<div>\n",
       "<style scoped>\n",
       "    .dataframe tbody tr th:only-of-type {\n",
       "        vertical-align: middle;\n",
       "    }\n",
       "\n",
       "    .dataframe tbody tr th {\n",
       "        vertical-align: top;\n",
       "    }\n",
       "\n",
       "    .dataframe thead th {\n",
       "        text-align: right;\n",
       "    }\n",
       "</style>\n",
       "<table border=\"1\" class=\"dataframe\">\n",
       "  <thead>\n",
       "    <tr style=\"text-align: right;\">\n",
       "      <th></th>\n",
       "      <th>product_name</th>\n",
       "      <th>frequency_count</th>\n",
       "    </tr>\n",
       "  </thead>\n",
       "  <tbody>\n",
       "    <tr>\n",
       "      <th>0</th>\n",
       "      <td>fresh fruits</td>\n",
       "      <td>226039</td>\n",
       "    </tr>\n",
       "    <tr>\n",
       "      <th>1</th>\n",
       "      <td>fresh vegetables</td>\n",
       "      <td>212611</td>\n",
       "    </tr>\n",
       "    <tr>\n",
       "      <th>2</th>\n",
       "      <td>packaged vegetables fruits</td>\n",
       "      <td>109596</td>\n",
       "    </tr>\n",
       "    <tr>\n",
       "      <th>3</th>\n",
       "      <td>yogurt</td>\n",
       "      <td>90751</td>\n",
       "    </tr>\n",
       "    <tr>\n",
       "      <th>4</th>\n",
       "      <td>packaged cheese</td>\n",
       "      <td>61502</td>\n",
       "    </tr>\n",
       "    <tr>\n",
       "      <th>5</th>\n",
       "      <td>milk</td>\n",
       "      <td>55150</td>\n",
       "    </tr>\n",
       "    <tr>\n",
       "      <th>6</th>\n",
       "      <td>water seltzer sparkling water</td>\n",
       "      <td>52564</td>\n",
       "    </tr>\n",
       "    <tr>\n",
       "      <th>7</th>\n",
       "      <td>chips pretzels</td>\n",
       "      <td>45306</td>\n",
       "    </tr>\n",
       "    <tr>\n",
       "      <th>8</th>\n",
       "      <td>soy lactosefree</td>\n",
       "      <td>39389</td>\n",
       "    </tr>\n",
       "    <tr>\n",
       "      <th>9</th>\n",
       "      <td>bread</td>\n",
       "      <td>36381</td>\n",
       "    </tr>\n",
       "    <tr>\n",
       "      <th>10</th>\n",
       "      <td>refrigerated</td>\n",
       "      <td>35893</td>\n",
       "    </tr>\n",
       "    <tr>\n",
       "      <th>11</th>\n",
       "      <td>frozen produce</td>\n",
       "      <td>32432</td>\n",
       "    </tr>\n",
       "    <tr>\n",
       "      <th>12</th>\n",
       "      <td>ice cream ice</td>\n",
       "      <td>31323</td>\n",
       "    </tr>\n",
       "    <tr>\n",
       "      <th>13</th>\n",
       "      <td>energy granola bars</td>\n",
       "      <td>28639</td>\n",
       "    </tr>\n",
       "    <tr>\n",
       "      <th>14</th>\n",
       "      <td>crackers</td>\n",
       "      <td>28574</td>\n",
       "    </tr>\n",
       "    <tr>\n",
       "      <th>15</th>\n",
       "      <td>eggs</td>\n",
       "      <td>27986</td>\n",
       "    </tr>\n",
       "    <tr>\n",
       "      <th>16</th>\n",
       "      <td>lunch meat</td>\n",
       "      <td>24470</td>\n",
       "    </tr>\n",
       "    <tr>\n",
       "      <th>17</th>\n",
       "      <td>frozen meals</td>\n",
       "      <td>24449</td>\n",
       "    </tr>\n",
       "    <tr>\n",
       "      <th>18</th>\n",
       "      <td>cereal</td>\n",
       "      <td>23754</td>\n",
       "    </tr>\n",
       "    <tr>\n",
       "      <th>19</th>\n",
       "      <td>baby food formula</td>\n",
       "      <td>23355</td>\n",
       "    </tr>\n",
       "  </tbody>\n",
       "</table>\n",
       "</div>"
      ],
      "text/plain": [
       "                     product_name  frequency_count\n",
       "0                    fresh fruits           226039\n",
       "1                fresh vegetables           212611\n",
       "2      packaged vegetables fruits           109596\n",
       "3                          yogurt            90751\n",
       "4                 packaged cheese            61502\n",
       "5                            milk            55150\n",
       "6   water seltzer sparkling water            52564\n",
       "7                  chips pretzels            45306\n",
       "8                 soy lactosefree            39389\n",
       "9                           bread            36381\n",
       "10                   refrigerated            35893\n",
       "11                 frozen produce            32432\n",
       "12                  ice cream ice            31323\n",
       "13            energy granola bars            28639\n",
       "14                       crackers            28574\n",
       "15                           eggs            27986\n",
       "16                     lunch meat            24470\n",
       "17                   frozen meals            24449\n",
       "18                         cereal            23754\n",
       "19              baby food formula            23355"
      ]
     },
     "execution_count": 22,
     "metadata": {},
     "output_type": "execute_result"
    }
   ],
   "source": [
    "cnt_srs =  merge['product_name'].value_counts().reset_index().head(20)\n",
    "cnt_srs.columns = ['product_name', 'frequency_count']\n",
    "cnt_srs"
   ]
  },
  {
   "cell_type": "markdown",
   "metadata": {},
   "source": [
    "## 3. Data Preparation <a class=\"anchor\" id=\"3\"></a>"
   ]
  },
  {
   "cell_type": "markdown",
   "metadata": {},
   "source": [
    "### Feature Engineering"
   ]
  },
  {
   "cell_type": "markdown",
   "metadata": {},
   "source": [
    "##### New_Customer"
   ]
  },
  {
   "cell_type": "code",
   "execution_count": 23,
   "metadata": {},
   "outputs": [
    {
     "data": {
      "text/html": [
       "<div>\n",
       "<style scoped>\n",
       "    .dataframe tbody tr th:only-of-type {\n",
       "        vertical-align: middle;\n",
       "    }\n",
       "\n",
       "    .dataframe tbody tr th {\n",
       "        vertical-align: top;\n",
       "    }\n",
       "\n",
       "    .dataframe thead th {\n",
       "        text-align: right;\n",
       "    }\n",
       "</style>\n",
       "<table border=\"1\" class=\"dataframe\">\n",
       "  <thead>\n",
       "    <tr style=\"text-align: right;\">\n",
       "      <th></th>\n",
       "      <th>order_id</th>\n",
       "      <th>user_id</th>\n",
       "      <th>order_number</th>\n",
       "      <th>order_dow</th>\n",
       "      <th>New_Customer</th>\n",
       "      <th>order_hour_of_day</th>\n",
       "      <th>days_since_prior_order</th>\n",
       "    </tr>\n",
       "  </thead>\n",
       "  <tbody>\n",
       "    <tr>\n",
       "      <th>0</th>\n",
       "      <td>2425083</td>\n",
       "      <td>49125</td>\n",
       "      <td>1</td>\n",
       "      <td>2</td>\n",
       "      <td>1</td>\n",
       "      <td>18</td>\n",
       "      <td>NaN</td>\n",
       "    </tr>\n",
       "    <tr>\n",
       "      <th>1</th>\n",
       "      <td>1944304</td>\n",
       "      <td>162867</td>\n",
       "      <td>1</td>\n",
       "      <td>3</td>\n",
       "      <td>1</td>\n",
       "      <td>17</td>\n",
       "      <td>NaN</td>\n",
       "    </tr>\n",
       "    <tr>\n",
       "      <th>2</th>\n",
       "      <td>1201011</td>\n",
       "      <td>147243</td>\n",
       "      <td>14</td>\n",
       "      <td>0</td>\n",
       "      <td>0</td>\n",
       "      <td>16</td>\n",
       "      <td>3.0</td>\n",
       "    </tr>\n",
       "    <tr>\n",
       "      <th>3</th>\n",
       "      <td>1906860</td>\n",
       "      <td>195275</td>\n",
       "      <td>81</td>\n",
       "      <td>1</td>\n",
       "      <td>0</td>\n",
       "      <td>11</td>\n",
       "      <td>3.0</td>\n",
       "    </tr>\n",
       "    <tr>\n",
       "      <th>4</th>\n",
       "      <td>2766469</td>\n",
       "      <td>58222</td>\n",
       "      <td>3</td>\n",
       "      <td>6</td>\n",
       "      <td>0</td>\n",
       "      <td>11</td>\n",
       "      <td>6.0</td>\n",
       "    </tr>\n",
       "    <tr>\n",
       "      <th>...</th>\n",
       "      <td>...</td>\n",
       "      <td>...</td>\n",
       "      <td>...</td>\n",
       "      <td>...</td>\n",
       "      <td>...</td>\n",
       "      <td>...</td>\n",
       "      <td>...</td>\n",
       "    </tr>\n",
       "    <tr>\n",
       "      <th>199995</th>\n",
       "      <td>2768632</td>\n",
       "      <td>137024</td>\n",
       "      <td>14</td>\n",
       "      <td>3</td>\n",
       "      <td>0</td>\n",
       "      <td>8</td>\n",
       "      <td>8.0</td>\n",
       "    </tr>\n",
       "    <tr>\n",
       "      <th>199996</th>\n",
       "      <td>1754449</td>\n",
       "      <td>190356</td>\n",
       "      <td>9</td>\n",
       "      <td>6</td>\n",
       "      <td>0</td>\n",
       "      <td>15</td>\n",
       "      <td>3.0</td>\n",
       "    </tr>\n",
       "    <tr>\n",
       "      <th>199997</th>\n",
       "      <td>792803</td>\n",
       "      <td>84264</td>\n",
       "      <td>5</td>\n",
       "      <td>3</td>\n",
       "      <td>0</td>\n",
       "      <td>13</td>\n",
       "      <td>21.0</td>\n",
       "    </tr>\n",
       "    <tr>\n",
       "      <th>199998</th>\n",
       "      <td>3390742</td>\n",
       "      <td>199430</td>\n",
       "      <td>16</td>\n",
       "      <td>3</td>\n",
       "      <td>0</td>\n",
       "      <td>18</td>\n",
       "      <td>5.0</td>\n",
       "    </tr>\n",
       "    <tr>\n",
       "      <th>199999</th>\n",
       "      <td>458285</td>\n",
       "      <td>128787</td>\n",
       "      <td>42</td>\n",
       "      <td>2</td>\n",
       "      <td>0</td>\n",
       "      <td>19</td>\n",
       "      <td>3.0</td>\n",
       "    </tr>\n",
       "  </tbody>\n",
       "</table>\n",
       "<p>200000 rows × 7 columns</p>\n",
       "</div>"
      ],
      "text/plain": [
       "        order_id  user_id  order_number  order_dow  New_Customer  \\\n",
       "0        2425083    49125             1          2             1   \n",
       "1        1944304   162867             1          3             1   \n",
       "2        1201011   147243            14          0             0   \n",
       "3        1906860   195275            81          1             0   \n",
       "4        2766469    58222             3          6             0   \n",
       "...          ...      ...           ...        ...           ...   \n",
       "199995   2768632   137024            14          3             0   \n",
       "199996   1754449   190356             9          6             0   \n",
       "199997    792803    84264             5          3             0   \n",
       "199998   3390742   199430            16          3             0   \n",
       "199999    458285   128787            42          2             0   \n",
       "\n",
       "        order_hour_of_day  days_since_prior_order  \n",
       "0                      18                     NaN  \n",
       "1                      17                     NaN  \n",
       "2                      16                     3.0  \n",
       "3                      11                     3.0  \n",
       "4                      11                     6.0  \n",
       "...                   ...                     ...  \n",
       "199995                  8                     8.0  \n",
       "199996                 15                     3.0  \n",
       "199997                 13                    21.0  \n",
       "199998                 18                     5.0  \n",
       "199999                 19                     3.0  \n",
       "\n",
       "[200000 rows x 7 columns]"
      ]
     },
     "execution_count": 23,
     "metadata": {},
     "output_type": "execute_result"
    }
   ],
   "source": [
    "orders.insert(4, 'New_Customer', 0)\n",
    "\n",
    "for i in range (len(orders)):\n",
    "    if np.isnan(orders['days_since_prior_order'][i]):\n",
    "            orders['New_Customer'][i] = 1\n",
    "    else:\n",
    "            orders['New_Customer'][i] = 0\n",
    "orders"
   ]
  },
  {
   "cell_type": "markdown",
   "metadata": {},
   "source": [
    "#### Missing Values"
   ]
  },
  {
   "cell_type": "code",
   "execution_count": 24,
   "metadata": {},
   "outputs": [],
   "source": [
    "orders['days_since_prior_order'].fillna(0,inplace=True)"
   ]
  },
  {
   "cell_type": "markdown",
   "metadata": {},
   "source": [
    "# 4. Modeling and Evaluation <a class=\"anchor\" id=\"4\"></a>"
   ]
  },
  {
   "cell_type": "markdown",
   "metadata": {},
   "source": [
    "## 4.1. Association Rules <a class=\"anchor\" id=\"4.1\"></a>"
   ]
  },
  {
   "cell_type": "code",
   "execution_count": 25,
   "metadata": {},
   "outputs": [
    {
     "data": {
      "text/html": [
       "<div>\n",
       "<style scoped>\n",
       "    .dataframe tbody tr th:only-of-type {\n",
       "        vertical-align: middle;\n",
       "    }\n",
       "\n",
       "    .dataframe tbody tr th {\n",
       "        vertical-align: top;\n",
       "    }\n",
       "\n",
       "    .dataframe thead th {\n",
       "        text-align: right;\n",
       "    }\n",
       "</style>\n",
       "<table border=\"1\" class=\"dataframe\">\n",
       "  <thead>\n",
       "    <tr style=\"text-align: right;\">\n",
       "      <th></th>\n",
       "      <th>order_id</th>\n",
       "      <th>user_id</th>\n",
       "      <th>order_number</th>\n",
       "      <th>order_dow</th>\n",
       "      <th>New_Customer</th>\n",
       "      <th>order_hour_of_day</th>\n",
       "      <th>days_since_prior_order</th>\n",
       "      <th>product_id</th>\n",
       "      <th>add_to_cart_order</th>\n",
       "      <th>reordered</th>\n",
       "    </tr>\n",
       "  </thead>\n",
       "  <tbody>\n",
       "    <tr>\n",
       "      <th>0</th>\n",
       "      <td>2425083</td>\n",
       "      <td>49125</td>\n",
       "      <td>1</td>\n",
       "      <td>2</td>\n",
       "      <td>1</td>\n",
       "      <td>18</td>\n",
       "      <td>0.0</td>\n",
       "      <td>17</td>\n",
       "      <td>1</td>\n",
       "      <td>0</td>\n",
       "    </tr>\n",
       "    <tr>\n",
       "      <th>1</th>\n",
       "      <td>2425083</td>\n",
       "      <td>49125</td>\n",
       "      <td>1</td>\n",
       "      <td>2</td>\n",
       "      <td>1</td>\n",
       "      <td>18</td>\n",
       "      <td>0.0</td>\n",
       "      <td>91</td>\n",
       "      <td>2</td>\n",
       "      <td>0</td>\n",
       "    </tr>\n",
       "    <tr>\n",
       "      <th>2</th>\n",
       "      <td>2425083</td>\n",
       "      <td>49125</td>\n",
       "      <td>1</td>\n",
       "      <td>2</td>\n",
       "      <td>1</td>\n",
       "      <td>18</td>\n",
       "      <td>0.0</td>\n",
       "      <td>36</td>\n",
       "      <td>3</td>\n",
       "      <td>0</td>\n",
       "    </tr>\n",
       "    <tr>\n",
       "      <th>3</th>\n",
       "      <td>2425083</td>\n",
       "      <td>49125</td>\n",
       "      <td>1</td>\n",
       "      <td>2</td>\n",
       "      <td>1</td>\n",
       "      <td>18</td>\n",
       "      <td>0.0</td>\n",
       "      <td>83</td>\n",
       "      <td>4</td>\n",
       "      <td>0</td>\n",
       "    </tr>\n",
       "    <tr>\n",
       "      <th>4</th>\n",
       "      <td>2425083</td>\n",
       "      <td>49125</td>\n",
       "      <td>1</td>\n",
       "      <td>2</td>\n",
       "      <td>1</td>\n",
       "      <td>18</td>\n",
       "      <td>0.0</td>\n",
       "      <td>83</td>\n",
       "      <td>5</td>\n",
       "      <td>0</td>\n",
       "    </tr>\n",
       "    <tr>\n",
       "      <th>...</th>\n",
       "      <td>...</td>\n",
       "      <td>...</td>\n",
       "      <td>...</td>\n",
       "      <td>...</td>\n",
       "      <td>...</td>\n",
       "      <td>...</td>\n",
       "      <td>...</td>\n",
       "      <td>...</td>\n",
       "      <td>...</td>\n",
       "      <td>...</td>\n",
       "    </tr>\n",
       "    <tr>\n",
       "      <th>2019496</th>\n",
       "      <td>3390742</td>\n",
       "      <td>199430</td>\n",
       "      <td>16</td>\n",
       "      <td>3</td>\n",
       "      <td>0</td>\n",
       "      <td>18</td>\n",
       "      <td>5.0</td>\n",
       "      <td>83</td>\n",
       "      <td>8</td>\n",
       "      <td>0</td>\n",
       "    </tr>\n",
       "    <tr>\n",
       "      <th>2019497</th>\n",
       "      <td>458285</td>\n",
       "      <td>128787</td>\n",
       "      <td>42</td>\n",
       "      <td>2</td>\n",
       "      <td>0</td>\n",
       "      <td>19</td>\n",
       "      <td>3.0</td>\n",
       "      <td>115</td>\n",
       "      <td>1</td>\n",
       "      <td>1</td>\n",
       "    </tr>\n",
       "    <tr>\n",
       "      <th>2019498</th>\n",
       "      <td>458285</td>\n",
       "      <td>128787</td>\n",
       "      <td>42</td>\n",
       "      <td>2</td>\n",
       "      <td>0</td>\n",
       "      <td>19</td>\n",
       "      <td>3.0</td>\n",
       "      <td>32</td>\n",
       "      <td>2</td>\n",
       "      <td>1</td>\n",
       "    </tr>\n",
       "    <tr>\n",
       "      <th>2019499</th>\n",
       "      <td>458285</td>\n",
       "      <td>128787</td>\n",
       "      <td>42</td>\n",
       "      <td>2</td>\n",
       "      <td>0</td>\n",
       "      <td>19</td>\n",
       "      <td>3.0</td>\n",
       "      <td>32</td>\n",
       "      <td>3</td>\n",
       "      <td>1</td>\n",
       "    </tr>\n",
       "    <tr>\n",
       "      <th>2019500</th>\n",
       "      <td>458285</td>\n",
       "      <td>128787</td>\n",
       "      <td>42</td>\n",
       "      <td>2</td>\n",
       "      <td>0</td>\n",
       "      <td>19</td>\n",
       "      <td>3.0</td>\n",
       "      <td>123</td>\n",
       "      <td>4</td>\n",
       "      <td>1</td>\n",
       "    </tr>\n",
       "  </tbody>\n",
       "</table>\n",
       "<p>2019501 rows × 10 columns</p>\n",
       "</div>"
      ],
      "text/plain": [
       "         order_id  user_id  order_number  order_dow  New_Customer  \\\n",
       "0         2425083    49125             1          2             1   \n",
       "1         2425083    49125             1          2             1   \n",
       "2         2425083    49125             1          2             1   \n",
       "3         2425083    49125             1          2             1   \n",
       "4         2425083    49125             1          2             1   \n",
       "...           ...      ...           ...        ...           ...   \n",
       "2019496   3390742   199430            16          3             0   \n",
       "2019497    458285   128787            42          2             0   \n",
       "2019498    458285   128787            42          2             0   \n",
       "2019499    458285   128787            42          2             0   \n",
       "2019500    458285   128787            42          2             0   \n",
       "\n",
       "         order_hour_of_day  days_since_prior_order  product_id  \\\n",
       "0                       18                     0.0          17   \n",
       "1                       18                     0.0          91   \n",
       "2                       18                     0.0          36   \n",
       "3                       18                     0.0          83   \n",
       "4                       18                     0.0          83   \n",
       "...                    ...                     ...         ...   \n",
       "2019496                 18                     5.0          83   \n",
       "2019497                 19                     3.0         115   \n",
       "2019498                 19                     3.0          32   \n",
       "2019499                 19                     3.0          32   \n",
       "2019500                 19                     3.0         123   \n",
       "\n",
       "         add_to_cart_order  reordered  \n",
       "0                        1          0  \n",
       "1                        2          0  \n",
       "2                        3          0  \n",
       "3                        4          0  \n",
       "4                        5          0  \n",
       "...                    ...        ...  \n",
       "2019496                  8          0  \n",
       "2019497                  1          1  \n",
       "2019498                  2          1  \n",
       "2019499                  3          1  \n",
       "2019500                  4          1  \n",
       "\n",
       "[2019501 rows x 10 columns]"
      ]
     },
     "execution_count": 25,
     "metadata": {},
     "output_type": "execute_result"
    }
   ],
   "source": [
    "df_AR = pd.merge (orders, orderProducts, how='left', on='order_id')\n",
    "df_AR"
   ]
  },
  {
   "cell_type": "code",
   "execution_count": 26,
   "metadata": {},
   "outputs": [],
   "source": [
    "df_AR = pd.merge(df_AR, products, how='left', on='product_id')"
   ]
  },
  {
   "cell_type": "code",
   "execution_count": 27,
   "metadata": {},
   "outputs": [],
   "source": [
    "basket = (df_AR.groupby(['user_id', 'product_name'])['order_number'].count().unstack().reset_index().fillna(0).set_index('user_id'))"
   ]
  },
  {
   "cell_type": "code",
   "execution_count": 28,
   "metadata": {},
   "outputs": [],
   "source": [
    "def encode_units(x):\n",
    "    if x <= 0:\n",
    "        return 0\n",
    "    if x >= 1:\n",
    "        return 1\n",
    "\n",
    "basket_sets = basket.applymap(encode_units)"
   ]
  },
  {
   "cell_type": "code",
   "execution_count": 29,
   "metadata": {},
   "outputs": [
    {
     "ename": "MemoryError",
     "evalue": "Unable to allocate 4.30 GiB for an array with shape (1826, 3, 105273) and data type int64",
     "output_type": "error",
     "traceback": [
      "\u001b[1;31m---------------------------------------------------------------------------\u001b[0m",
      "\u001b[1;31mMemoryError\u001b[0m                               Traceback (most recent call last)",
      "\u001b[1;32m<ipython-input-29-709d67e6ab36>\u001b[0m in \u001b[0;36m<module>\u001b[1;34m\u001b[0m\n\u001b[1;32m----> 1\u001b[1;33m \u001b[0mfrequent_itemsets\u001b[0m \u001b[1;33m=\u001b[0m \u001b[0mapriori\u001b[0m\u001b[1;33m(\u001b[0m\u001b[0mbasket_sets\u001b[0m\u001b[1;33m,\u001b[0m \u001b[0mmin_support\u001b[0m\u001b[1;33m=\u001b[0m\u001b[1;36m0.07\u001b[0m\u001b[1;33m,\u001b[0m \u001b[0muse_colnames\u001b[0m\u001b[1;33m=\u001b[0m\u001b[1;32mTrue\u001b[0m\u001b[1;33m)\u001b[0m\u001b[1;33m\u001b[0m\u001b[1;33m\u001b[0m\u001b[0m\n\u001b[0m",
      "\u001b[1;32m~\\anaconda3\\envs\\Business_case2\\lib\\site-packages\\mlxtend\\frequent_patterns\\apriori.py\u001b[0m in \u001b[0;36mapriori\u001b[1;34m(df, min_support, use_colnames, max_len, verbose, low_memory)\u001b[0m\n\u001b[0;32m    300\u001b[0m                     \u001b[0m_bools\u001b[0m \u001b[1;33m=\u001b[0m \u001b[0m_bools\u001b[0m \u001b[1;33m&\u001b[0m \u001b[1;33m(\u001b[0m\u001b[0mX\u001b[0m\u001b[1;33m[\u001b[0m\u001b[1;33m:\u001b[0m\u001b[1;33m,\u001b[0m \u001b[0mcombin\u001b[0m\u001b[1;33m[\u001b[0m\u001b[1;33m:\u001b[0m\u001b[1;33m,\u001b[0m \u001b[0mn\u001b[0m\u001b[1;33m]\u001b[0m\u001b[1;33m]\u001b[0m \u001b[1;33m==\u001b[0m \u001b[0mall_ones\u001b[0m\u001b[1;33m)\u001b[0m\u001b[1;33m\u001b[0m\u001b[1;33m\u001b[0m\u001b[0m\n\u001b[0;32m    301\u001b[0m             \u001b[1;32melse\u001b[0m\u001b[1;33m:\u001b[0m\u001b[1;33m\u001b[0m\u001b[1;33m\u001b[0m\u001b[0m\n\u001b[1;32m--> 302\u001b[1;33m                 \u001b[0m_bools\u001b[0m \u001b[1;33m=\u001b[0m \u001b[0mnp\u001b[0m\u001b[1;33m.\u001b[0m\u001b[0mall\u001b[0m\u001b[1;33m(\u001b[0m\u001b[0mX\u001b[0m\u001b[1;33m[\u001b[0m\u001b[1;33m:\u001b[0m\u001b[1;33m,\u001b[0m \u001b[0mcombin\u001b[0m\u001b[1;33m]\u001b[0m\u001b[1;33m,\u001b[0m \u001b[0maxis\u001b[0m\u001b[1;33m=\u001b[0m\u001b[1;36m2\u001b[0m\u001b[1;33m)\u001b[0m\u001b[1;33m\u001b[0m\u001b[1;33m\u001b[0m\u001b[0m\n\u001b[0m\u001b[0;32m    303\u001b[0m \u001b[1;33m\u001b[0m\u001b[0m\n\u001b[0;32m    304\u001b[0m             \u001b[0msupport\u001b[0m \u001b[1;33m=\u001b[0m \u001b[0m_support\u001b[0m\u001b[1;33m(\u001b[0m\u001b[0mnp\u001b[0m\u001b[1;33m.\u001b[0m\u001b[0marray\u001b[0m\u001b[1;33m(\u001b[0m\u001b[0m_bools\u001b[0m\u001b[1;33m)\u001b[0m\u001b[1;33m,\u001b[0m \u001b[0mrows_count\u001b[0m\u001b[1;33m,\u001b[0m \u001b[0mis_sparse\u001b[0m\u001b[1;33m)\u001b[0m\u001b[1;33m\u001b[0m\u001b[1;33m\u001b[0m\u001b[0m\n",
      "\u001b[1;31mMemoryError\u001b[0m: Unable to allocate 4.30 GiB for an array with shape (1826, 3, 105273) and data type int64"
     ]
    }
   ],
   "source": [
    "frequent_itemsets = apriori(basket_sets, min_support=0.07, use_colnames=True)"
   ]
  },
  {
   "cell_type": "markdown",
   "metadata": {},
   "source": [
    "If no threshold is defined, we have the following amount of rules"
   ]
  },
  {
   "cell_type": "code",
   "execution_count": null,
   "metadata": {},
   "outputs": [],
   "source": [
    "association_rules(frequent_itemsets, metric=\"lift\", min_threshold=0).shape"
   ]
  },
  {
   "cell_type": "markdown",
   "metadata": {},
   "source": [
    "##### Setting a threshold of 75% for the confidence"
   ]
  },
  {
   "cell_type": "code",
   "execution_count": null,
   "metadata": {},
   "outputs": [],
   "source": [
    "rules = association_rules(frequent_itemsets, metric=\"confidence\", min_threshold=0.75)\n",
    "rules"
   ]
  },
  {
   "cell_type": "code",
   "execution_count": null,
   "metadata": {},
   "outputs": [],
   "source": [
    "rules.describe()"
   ]
  },
  {
   "cell_type": "markdown",
   "metadata": {},
   "source": [
    "##### Result 1 - 10 rules that had a higher confidence (assuming that the confidence and support were of at least 75% and 7%, respectively)"
   ]
  },
  {
   "cell_type": "code",
   "execution_count": null,
   "metadata": {
    "scrolled": true
   },
   "outputs": [],
   "source": [
    "rules.sort_values(by=['confidence'], ascending=False).head(10)"
   ]
  },
  {
   "cell_type": "markdown",
   "metadata": {},
   "source": [
    "##### Result 2 - 10 rules that have a higher lift (assuming that the confidence and support were of at least 75% and 7%, respectively)"
   ]
  },
  {
   "cell_type": "code",
   "execution_count": null,
   "metadata": {},
   "outputs": [],
   "source": [
    "rules.sort_values(by=['lift'], ascending=False).head(10)"
   ]
  },
  {
   "cell_type": "markdown",
   "metadata": {},
   "source": [
    "#### Network of the top 50 confidence rules"
   ]
  },
  {
   "cell_type": "code",
   "execution_count": null,
   "metadata": {
    "scrolled": true
   },
   "outputs": [],
   "source": [
    "import networkx as nx\n",
    "### Plot a basic network graph of the top 50 confidence rules\n",
    "# Create a copy of the rules and transform the frozensets to strings\n",
    "rulesToPlot = rules.sort_values(by=['confidence'], ascending=False).copy(deep=True)\n",
    "rulesToPlot['LHS'] = [','.join(list(x)) for x in rulesToPlot['antecedents']]\n",
    "rulesToPlot['RHS'] = [','.join(list(x)) for x in rulesToPlot['consequents']]\n",
    "# Remove duplicate if reversed rules\n",
    "rulesToPlot['sortedRow'] = [sorted([a,b]) for a,b in zip(rulesToPlot.LHS, rulesToPlot.RHS)]\n",
    "rulesToPlot['sortedRow'] = rulesToPlot['sortedRow'].astype(str)\n",
    "rulesToPlot.drop_duplicates(subset=['sortedRow'], inplace=True)\n",
    "# Plot\n",
    "rulesToPlot=rulesToPlot[:50]\n",
    "fig = plt.figure(figsize=(20, 20)) \n",
    "G = nx.from_pandas_edgelist(rulesToPlot, 'LHS', 'RHS')  \n",
    "# Each node is an itemset (either source or target) and the edges connect the itemsets if they consist of a high confidence rule\n",
    "nx.draw(G, with_labels=True, node_size=30, node_color=\"green\", pos=nx.spring_layout(G))\n",
    "plt.axis('equal')\n",
    "plt.show()"
   ]
  },
  {
   "cell_type": "markdown",
   "metadata": {},
   "source": [
    "#### Next step -> Reducing the confidence threshold to 50%\n",
    "\n",
    "In an attempt of finding unexpected rules, more complementary goods and substitute goods (there weren´t any with a confidence of 75% or higher)"
   ]
  },
  {
   "cell_type": "code",
   "execution_count": null,
   "metadata": {},
   "outputs": [],
   "source": [
    "rules = association_rules(frequent_itemsets, metric=\"confidence\", min_threshold=0.5)"
   ]
  },
  {
   "cell_type": "markdown",
   "metadata": {},
   "source": [
    "##### Result 3 - independent items lift~1"
   ]
  },
  {
   "cell_type": "code",
   "execution_count": null,
   "metadata": {},
   "outputs": [],
   "source": [
    "rules[(rules['lift']>=0.95)&(rules['lift']<=1.05)].sort_values(by=['lift'], ascending=False)"
   ]
  },
  {
   "cell_type": "markdown",
   "metadata": {},
   "source": [
    "##### Result 4 - substitute products"
   ]
  },
  {
   "cell_type": "code",
   "execution_count": null,
   "metadata": {},
   "outputs": [],
   "source": [
    "rules[(rules['lift']<=1)]"
   ]
  },
  {
   "cell_type": "markdown",
   "metadata": {},
   "source": [
    "##### Complementary products by setting a threshold of 1.5 for the lift and mantaining the confidence of at least 50%"
   ]
  },
  {
   "cell_type": "code",
   "execution_count": null,
   "metadata": {},
   "outputs": [],
   "source": [
    "rules[(rules['lift'] >= 1.5)].head(10)"
   ]
  },
  {
   "cell_type": "code",
   "execution_count": null,
   "metadata": {},
   "outputs": [],
   "source": [
    "rules[(rules['lift'] >= 1.5)].iloc[70:74,:]"
   ]
  },
  {
   "cell_type": "code",
   "execution_count": null,
   "metadata": {},
   "outputs": [],
   "source": [
    "rules[(rules['lift'] >= 1.5)].iloc[[130],:]"
   ]
  },
  {
   "cell_type": "markdown",
   "metadata": {},
   "source": [
    "##### Viewing results for one antecedent lhs item against consequents "
   ]
  },
  {
   "cell_type": "code",
   "execution_count": null,
   "metadata": {
    "scrolled": true
   },
   "outputs": [],
   "source": [
    "import seaborn as sns\n",
    "import matplotlib.pyplot as plt\n",
    "\n",
    "# Replacing the sets with strings\n",
    "rules['antecedents'] = rules['antecedents'].apply(lambda a: ','.join(list(a)))\n",
    "rules['consequents'] = rules['consequents'].apply(lambda a: ','.join(list(a)))\n",
    "\n",
    "# Transforming the dataframe of rules into a matrix using the lift metric\n",
    "pivot = rules.pivot(index = 'antecedents',columns = 'consequents', values= 'lift')\n",
    "\n",
    "# Generating a heatmap\n",
    "sns.heatmap(pivot, annot = False, cmap='Greens')\n",
    "plt.yticks(rotation=0)\n",
    "plt.xticks(rotation=90)\n",
    "plt.show()"
   ]
  },
  {
   "cell_type": "markdown",
   "metadata": {},
   "source": [
    "##### Even without setting a threshold for the confidence, there aren´t substitute goods other than the pair already seen"
   ]
  },
  {
   "cell_type": "code",
   "execution_count": null,
   "metadata": {},
   "outputs": [],
   "source": [
    "rules = association_rules(frequent_itemsets, metric=\"lift\", min_threshold=0)"
   ]
  },
  {
   "cell_type": "code",
   "execution_count": null,
   "metadata": {},
   "outputs": [],
   "source": [
    "rules[(rules['lift'] < 1)]"
   ]
  },
  {
   "cell_type": "markdown",
   "metadata": {},
   "source": [
    "### 4.2. Customers Segmentation by product <a class=\"anchor\" id=\"4.2\"></a>"
   ]
  },
  {
   "cell_type": "code",
   "execution_count": null,
   "metadata": {},
   "outputs": [],
   "source": [
    "df_Seg = pd.merge(df_AR, departments, how='left', on='department_id')\n",
    "ProductCount = df_Seg.groupby(['user_id', 'product_name'])['product_name'].count().to_frame() \n",
    "ProductCount.columns=['count']\n",
    "ProductCount"
   ]
  },
  {
   "cell_type": "code",
   "execution_count": null,
   "metadata": {},
   "outputs": [],
   "source": [
    "table = pd.pivot_table(ProductCount, values='count', index=['user_id'],\n",
    "                    columns=['product_name'])"
   ]
  },
  {
   "cell_type": "code",
   "execution_count": null,
   "metadata": {},
   "outputs": [],
   "source": [
    "table.fillna(0,inplace=True)"
   ]
  },
  {
   "cell_type": "code",
   "execution_count": null,
   "metadata": {},
   "outputs": [],
   "source": [
    "table.head()"
   ]
  },
  {
   "cell_type": "code",
   "execution_count": null,
   "metadata": {},
   "outputs": [],
   "source": [
    "# Obtaining frequency and days_between_orders\n",
    "customer_history = df_Seg[['user_id', 'days_since_prior_order']].groupby(\"user_id\").min().reset_index()\n",
    "customer_history.rename(columns={'days_since_prior_order':'days_between_orders'}, inplace=True)\n",
    "customer_freq = (df_Seg[['user_id', 'order_id']].groupby([\"user_id\", 'order_id']).count().reset_index()).\\\n",
    "                groupby([\"user_id\"]).count().reset_index()\n",
    "customer_freq.rename(columns={'order_id':'frequency'},inplace=True)\n",
    "customer_history = customer_history.merge(customer_freq)"
   ]
  },
  {
   "cell_type": "code",
   "execution_count": null,
   "metadata": {},
   "outputs": [],
   "source": [
    "df = pd.merge(table, customer_history, how='inner', on='user_id')"
   ]
  },
  {
   "cell_type": "code",
   "execution_count": null,
   "metadata": {},
   "outputs": [],
   "source": [
    "features = df.columns\n",
    "features = np.delete(features, 0)\n",
    "features"
   ]
  },
  {
   "cell_type": "markdown",
   "metadata": {},
   "source": [
    "##### Scaling the metric features using the min max scaler"
   ]
  },
  {
   "cell_type": "code",
   "execution_count": null,
   "metadata": {},
   "outputs": [],
   "source": [
    "from sklearn.preprocessing import MinMaxScaler\n",
    "scaler = MinMaxScaler()\n",
    "scaler.fit(df[features])\n",
    "scaler.transform(df[features])"
   ]
  },
  {
   "cell_type": "markdown",
   "metadata": {},
   "source": [
    "##### PCA to reduce the dimensionality as we have a lot of product variables"
   ]
  },
  {
   "cell_type": "code",
   "execution_count": null,
   "metadata": {},
   "outputs": [],
   "source": [
    "#PCA\n",
    "from sklearn.decomposition import PCA\n",
    "pca = PCA()\n",
    "pca_feat = pca.fit_transform(df[features])\n",
    "# pca_feat  "
   ]
  },
  {
   "cell_type": "code",
   "execution_count": null,
   "metadata": {},
   "outputs": [],
   "source": [
    "# Output PCA table\n",
    "pd.DataFrame(\n",
    "    {\"Eigenvalue\": pca.explained_variance_,\n",
    "     \"Difference\": np.insert(np.diff(pca.explained_variance_), 0, 0),\n",
    "     \"Proportion\": pca.explained_variance_ratio_,\n",
    "     \"Cumulative\": np.cumsum(pca.explained_variance_ratio_)},\n",
    "    index=range(1, pca.n_components_ + 1)\n",
    ")"
   ]
  },
  {
   "cell_type": "code",
   "execution_count": null,
   "metadata": {},
   "outputs": [],
   "source": [
    "pca = PCA(n_components=5)\n",
    "pca_feat = pca.fit_transform(df[features])\n",
    "pca_feat_names = [f\"PC{i}\" for i in range(pca.n_components_)]\n",
    "pca_df = pd.DataFrame(pca_feat, index=df.index, columns=pca_feat_names)\n",
    "pca_df"
   ]
  },
  {
   "cell_type": "markdown",
   "metadata": {},
   "source": [
    "#### Clusters"
   ]
  },
  {
   "cell_type": "code",
   "execution_count": null,
   "metadata": {},
   "outputs": [],
   "source": [
    "# Defining the number of clusters:\n",
    "range_clusters = range(1, 11)\n",
    "inertia = []\n",
    "for n_clus in range_clusters:  # iterate over desired ncluster range\n",
    "    kmclust = KMeans(n_clusters=n_clus, init='k-means++', n_init=15, random_state=1)\n",
    "    kmclust.fit(pca_df) \n",
    "    inertia.append(kmclust.inertia_)  # save the inertia of the given cluster solution\n",
    "    \n",
    "# The figure:\n",
    "plt.figure(figsize=(9,5))\n",
    "#This following step is to make sure that we plot the correct x axis'labels:\n",
    "plot_df=pd.DataFrame(columns=['x','y'])\n",
    "plot_df['x']=range(1, 11)\n",
    "plot_df['y']=inertia\n",
    "\n",
    "# The inertia plot:\n",
    "plt.plot('x', 'y',data = plot_df,color='green')\n",
    "plt.ylabel(\"Inertia: SSw\")\n",
    "plt.xlabel(\"Number of clusters\")\n",
    "plt.title(\"Inertia plot over clusters\", size=15)\n",
    "plt.show()\n",
    "\n",
    "# By looking at the plot we conclude that the best number of clusters would be 3"
   ]
  },
  {
   "cell_type": "code",
   "execution_count": null,
   "metadata": {},
   "outputs": [],
   "source": [
    "def get_ss(df):\n",
    "    \"\"\"Computes the sum of squares for all variables given a dataset\n",
    "    \"\"\"\n",
    "    ss = np.sum(df.var() * (df.count() - 1))\n",
    "    return ss  # return sum of sum of squares of each df variable\n",
    "\n",
    "def r2(df, labels):\n",
    "    sst = get_ss(df)\n",
    "    ssw = np.sum(df.groupby(labels).apply(get_ss))\n",
    "    return 1 - ssw/sst\n"
   ]
  },
  {
   "cell_type": "code",
   "execution_count": null,
   "metadata": {},
   "outputs": [],
   "source": [
    "r2_list_kmeans=[]\n",
    "for i in range(2,11):\n",
    "    number_clusters = i\n",
    "    kmclust = KMeans(n_clusters=number_clusters, init='k-means++', n_init=15, random_state=1)\n",
    "    km_labels = kmclust.fit_predict(pca_df)# Characterizing the final clusters\n",
    "    df_concat_kmeans = pd.concat((pca_df, pd.Series(km_labels, name='labels')), axis=1)\n",
    "    r2_list_kmeans.append(r2(df_concat_kmeans,'labels'))\n",
    "\n",
    "plt.plot(pd.DataFrame(r2_list_kmeans, index=range(2,11), columns=['R2']), color = 'green')\n",
    "plt.show()"
   ]
  },
  {
   "cell_type": "markdown",
   "metadata": {},
   "source": [
    "##### Kmeans"
   ]
  },
  {
   "cell_type": "code",
   "execution_count": null,
   "metadata": {},
   "outputs": [],
   "source": [
    "number_clusters = 4\n",
    "kmclust = KMeans(n_clusters=number_clusters, init='k-means++', n_init=15, random_state=1)\n",
    "km_labels = kmclust.fit_predict(pca_df)# Characterizing the final clusters\n",
    "df_concat_kmeans = pd.concat((pca_df, pd.Series(km_labels, name='labels')), axis=1)"
   ]
  },
  {
   "cell_type": "code",
   "execution_count": null,
   "metadata": {},
   "outputs": [],
   "source": [
    "df.insert(0, 'labels', df_concat_kmeans['labels'])"
   ]
  },
  {
   "cell_type": "code",
   "execution_count": null,
   "metadata": {},
   "outputs": [],
   "source": [
    "df.drop(columns=['user_id']).groupby('labels').mean()"
   ]
  },
  {
   "cell_type": "code",
   "execution_count": null,
   "metadata": {},
   "outputs": [],
   "source": [
    "market = df.labels.value_counts()\n",
    "color = [\"#008000\",\"#9cc93f\",\"#6b8e23\",\"#006400\"]\n",
    "g = plt.pie(market, labels=market.index, autopct='%1.1f%%', shadow=True, startangle=90, colors=color)\n",
    "plt.title('4 Clusters')"
   ]
  },
  {
   "cell_type": "markdown",
   "metadata": {},
   "source": [
    "##### New customer and clusters"
   ]
  },
  {
   "cell_type": "code",
   "execution_count": null,
   "metadata": {},
   "outputs": [],
   "source": [
    "df_analysis = pd.merge(df, orders.groupby('user_id')['New_Customer'].min(), how='inner', on='user_id')\n",
    "df_analysis.drop(columns=['user_id']).groupby('labels').mean()"
   ]
  },
  {
   "cell_type": "markdown",
   "metadata": {},
   "source": [
    "###### Day of the week and clusters"
   ]
  },
  {
   "cell_type": "code",
   "execution_count": null,
   "metadata": {},
   "outputs": [],
   "source": [
    "aux = df_Seg.groupby(['user_id', 'order_dow'])[['order_dow']].count().rename(columns={'order_dow':'count'})\n",
    "aux=pd.pivot_table(aux, values='count', index=['user_id'],\n",
    "                    columns=['order_dow']).fillna(0).rename(columns={i:'order_dow-'+str(i) for i in range(7)})\n",
    "aux = pd.merge(aux,df_analysis,on='user_id').drop(columns=['user_id']).groupby('labels').sum().iloc[:,:7]"
   ]
  },
  {
   "cell_type": "code",
   "execution_count": null,
   "metadata": {},
   "outputs": [],
   "source": [
    "# Percentage of customers in each cluster that purchase in each dow \n",
    "aux.div(aux.sum(axis=1), axis=0)*100"
   ]
  },
  {
   "cell_type": "markdown",
   "metadata": {},
   "source": [
    "###### Order hour of day and clusters"
   ]
  },
  {
   "cell_type": "code",
   "execution_count": null,
   "metadata": {},
   "outputs": [],
   "source": [
    "aux2 = df_Seg.groupby(['user_id', 'order_hour_of_day'])[['order_hour_of_day']].count().rename(columns={'order_hour_of_day':'count'})\n",
    "aux2=pd.pivot_table(aux2, values='count', index=['user_id'],\n",
    "                    columns=['order_hour_of_day']).fillna(0).rename(columns={i:'order_hour_of_day-'+str(i) for i in range(24)})\n",
    "aux2 = pd.merge(aux2,df_analysis,on='user_id').drop(columns=['user_id']).groupby('labels').sum().iloc[:,:24]\n",
    "\n",
    "# Percentage of customers in each cluster that purchase in hour of the day\n",
    "aux2=aux2.div(aux2.sum(axis=1), axis=0)*100\n",
    "aux2.style.applymap(lambda x: 'background-color : yellow' if x>5 else '')"
   ]
  },
  {
   "cell_type": "markdown",
   "metadata": {},
   "source": [
    "###### Association Rules per cluster"
   ]
  },
  {
   "cell_type": "code",
   "execution_count": null,
   "metadata": {},
   "outputs": [],
   "source": [
    "basket_0 = df.loc[df['labels']==0]\n",
    "basket_0.drop(['user_id','labels', 'frequency', 'days_between_orders'], axis='columns', inplace=True)\n",
    "basket_1 = df.loc[df['labels']==1]\n",
    "basket_1.drop(['user_id','labels', 'frequency', 'days_between_orders'],axis='columns', inplace=True)\n",
    "basket_2 = df.loc[df['labels']==2]\n",
    "basket_2.drop(['user_id','labels', 'frequency', 'days_between_orders'],axis='columns', inplace=True)\n",
    "basket_3 = df.loc[df['labels']==3]\n",
    "basket_3.drop(['user_id','labels', 'frequency', 'days_between_orders'], axis='columns', inplace=True)"
   ]
  },
  {
   "cell_type": "markdown",
   "metadata": {},
   "source": [
    "Cluster 0"
   ]
  },
  {
   "cell_type": "code",
   "execution_count": null,
   "metadata": {},
   "outputs": [],
   "source": [
    "basket_sets_0 = basket_0.applymap(encode_units)"
   ]
  },
  {
   "cell_type": "code",
   "execution_count": null,
   "metadata": {},
   "outputs": [],
   "source": [
    "frequent_itemsets_0 = apriori(basket_sets_0, min_support=0.07, use_colnames=True)"
   ]
  },
  {
   "cell_type": "code",
   "execution_count": null,
   "metadata": {},
   "outputs": [],
   "source": [
    "rules_0 = association_rules(frequent_itemsets_0, metric=\"lift\", min_threshold=0)\n",
    "rules_0"
   ]
  },
  {
   "cell_type": "markdown",
   "metadata": {},
   "source": [
    "Cluster 1"
   ]
  },
  {
   "cell_type": "code",
   "execution_count": null,
   "metadata": {},
   "outputs": [],
   "source": [
    "basket_sets_1 = basket_1.applymap(encode_units)"
   ]
  },
  {
   "cell_type": "code",
   "execution_count": null,
   "metadata": {},
   "outputs": [],
   "source": [
    "frequent_itemsets_1 = apriori(basket_sets_1, min_support=0.07, use_colnames=True)"
   ]
  },
  {
   "cell_type": "code",
   "execution_count": null,
   "metadata": {},
   "outputs": [],
   "source": [
    "rules_1 = association_rules(frequent_itemsets_1, metric=\"lift\", min_threshold=0)\n",
    "rules_1"
   ]
  },
  {
   "cell_type": "markdown",
   "metadata": {},
   "source": [
    "Cluster 2"
   ]
  },
  {
   "cell_type": "code",
   "execution_count": null,
   "metadata": {},
   "outputs": [],
   "source": [
    "basket_sets_2 = basket_2.applymap(encode_units)"
   ]
  },
  {
   "cell_type": "code",
   "execution_count": null,
   "metadata": {},
   "outputs": [],
   "source": [
    "frequent_itemsets_2 = apriori(basket_sets_2, min_support=0.12, use_colnames=True)"
   ]
  },
  {
   "cell_type": "code",
   "execution_count": null,
   "metadata": {},
   "outputs": [],
   "source": [
    "rules_2 = association_rules(frequent_itemsets_2, metric=\"lift\", min_threshold=0)\n",
    "rules_2"
   ]
  },
  {
   "cell_type": "markdown",
   "metadata": {},
   "source": [
    "Cluster 3"
   ]
  },
  {
   "cell_type": "code",
   "execution_count": null,
   "metadata": {},
   "outputs": [],
   "source": [
    "basket_sets_3 = basket_3.applymap(encode_units)"
   ]
  },
  {
   "cell_type": "code",
   "execution_count": null,
   "metadata": {},
   "outputs": [],
   "source": [
    "frequent_itemsets_3 = apriori(basket_sets_3, min_support=0.07, use_colnames=True)"
   ]
  },
  {
   "cell_type": "code",
   "execution_count": null,
   "metadata": {},
   "outputs": [],
   "source": [
    "rules_3 = association_rules(frequent_itemsets_3, metric=\"lift\", min_threshold=0)\n",
    "rules_3"
   ]
  },
  {
   "cell_type": "markdown",
   "metadata": {},
   "source": [
    "###### Frequency of Day of week Vs Hour of Day By product and Segment "
   ]
  },
  {
   "cell_type": "code",
   "execution_count": null,
   "metadata": {},
   "outputs": [],
   "source": [
    "def HeatMapProduct(name):\n",
    "    Orders_Info = pd.merge(orders, orderProducts, how='left', on='order_id')\n",
    "    Orders_Info = pd.merge(Orders_Info, products, how='left', on = 'product_id')\n",
    "    Orders_Info = Orders_Info.loc[Orders_Info['product_name']==name]\n",
    "    grouped_df = Orders_Info.groupby([\"order_dow\", \"order_hour_of_day\"])[\"order_number\"].aggregate(\"count\").reset_index()\n",
    "    grouped_df = grouped_df.pivot('order_dow', 'order_hour_of_day', 'order_number')\n",
    "    plt.figure(figsize=(12,6))\n",
    "    sns.heatmap(grouped_df, cmap=\"Greens\")\n",
    "    plt.title(\"Frequency of Day of week Vs Hour of day\")\n",
    "    plt.show() "
   ]
  },
  {
   "cell_type": "code",
   "execution_count": null,
   "metadata": {},
   "outputs": [],
   "source": [
    "HeatMapProduct('soy lactosefree')"
   ]
  },
  {
   "cell_type": "code",
   "execution_count": null,
   "metadata": {},
   "outputs": [],
   "source": [
    "HeatMapProduct('eggs')"
   ]
  },
  {
   "cell_type": "code",
   "execution_count": null,
   "metadata": {},
   "outputs": [],
   "source": [
    "HeatMapProduct('indian foods')"
   ]
  },
  {
   "cell_type": "code",
   "execution_count": null,
   "metadata": {},
   "outputs": [],
   "source": [
    "def HeatMapDepartment(n):\n",
    "    Orders_Info = pd.merge(orders, orderProducts, how='left', on='order_id')\n",
    "    Orders_Info = pd.merge(Orders_Info, products, how='left', on = 'product_id')\n",
    "    Orders_Info = Orders_Info.loc[Orders_Info['department_id']== n]\n",
    "    grouped_df = Orders_Info.groupby([\"order_dow\", \"order_hour_of_day\"])[\"order_number\"].aggregate(\"count\").reset_index()\n",
    "    grouped_df = grouped_df.pivot('order_dow', 'order_hour_of_day', 'order_number')\n",
    "    plt.figure(figsize=(12,6))\n",
    "    sns.heatmap(grouped_df, cmap='Greens')\n",
    "    plt.title(\"Frequency of Day of week Vs Hour of day\")\n",
    "    plt.show()"
   ]
  },
  {
   "cell_type": "code",
   "execution_count": null,
   "metadata": {},
   "outputs": [],
   "source": [
    "HeatMapDepartment(18)"
   ]
  },
  {
   "cell_type": "code",
   "execution_count": null,
   "metadata": {},
   "outputs": [],
   "source": [
    "HeatMapDepartment(8)"
   ]
  },
  {
   "cell_type": "markdown",
   "metadata": {},
   "source": [
    "# 5. Deployment <a class=\"anchor\" id=\"5\"></a>"
   ]
  },
  {
   "cell_type": "markdown",
   "metadata": {},
   "source": [
    "##### Recommender system"
   ]
  },
  {
   "cell_type": "code",
   "execution_count": 30,
   "metadata": {},
   "outputs": [
    {
     "ename": "MemoryError",
     "evalue": "Unable to allocate 4.30 GiB for an array with shape (1826, 3, 105273) and data type int64",
     "output_type": "error",
     "traceback": [
      "\u001b[1;31m---------------------------------------------------------------------------\u001b[0m",
      "\u001b[1;31mMemoryError\u001b[0m                               Traceback (most recent call last)",
      "\u001b[1;32m<ipython-input-30-d5130436f0cc>\u001b[0m in \u001b[0;36m<module>\u001b[1;34m\u001b[0m\n\u001b[0;32m      3\u001b[0m \u001b[0mbasket\u001b[0m \u001b[1;33m=\u001b[0m \u001b[1;33m(\u001b[0m\u001b[0mdf_AR\u001b[0m\u001b[1;33m.\u001b[0m\u001b[0mgroupby\u001b[0m\u001b[1;33m(\u001b[0m\u001b[1;33m[\u001b[0m\u001b[1;34m'user_id'\u001b[0m\u001b[1;33m,\u001b[0m \u001b[1;34m'product_name'\u001b[0m\u001b[1;33m]\u001b[0m\u001b[1;33m)\u001b[0m\u001b[1;33m[\u001b[0m\u001b[1;34m'order_number'\u001b[0m\u001b[1;33m]\u001b[0m\u001b[1;33m.\u001b[0m\u001b[0mcount\u001b[0m\u001b[1;33m(\u001b[0m\u001b[1;33m)\u001b[0m\u001b[1;33m.\u001b[0m\u001b[0munstack\u001b[0m\u001b[1;33m(\u001b[0m\u001b[1;33m)\u001b[0m\u001b[1;33m.\u001b[0m\u001b[0mreset_index\u001b[0m\u001b[1;33m(\u001b[0m\u001b[1;33m)\u001b[0m\u001b[1;33m.\u001b[0m\u001b[0mfillna\u001b[0m\u001b[1;33m(\u001b[0m\u001b[1;36m0\u001b[0m\u001b[1;33m)\u001b[0m\u001b[1;33m.\u001b[0m\u001b[0mset_index\u001b[0m\u001b[1;33m(\u001b[0m\u001b[1;34m'user_id'\u001b[0m\u001b[1;33m)\u001b[0m\u001b[1;33m)\u001b[0m\u001b[1;33m\u001b[0m\u001b[1;33m\u001b[0m\u001b[0m\n\u001b[0;32m      4\u001b[0m \u001b[0mbasket_sets\u001b[0m \u001b[1;33m=\u001b[0m \u001b[0mbasket\u001b[0m\u001b[1;33m.\u001b[0m\u001b[0mapplymap\u001b[0m\u001b[1;33m(\u001b[0m\u001b[0mencode_units\u001b[0m\u001b[1;33m)\u001b[0m\u001b[1;33m\u001b[0m\u001b[1;33m\u001b[0m\u001b[0m\n\u001b[1;32m----> 5\u001b[1;33m \u001b[0mfrequent_itemsets\u001b[0m \u001b[1;33m=\u001b[0m \u001b[0mapriori\u001b[0m\u001b[1;33m(\u001b[0m\u001b[0mbasket_sets\u001b[0m\u001b[1;33m,\u001b[0m \u001b[0mmin_support\u001b[0m\u001b[1;33m=\u001b[0m\u001b[1;36m0.07\u001b[0m\u001b[1;33m,\u001b[0m \u001b[0muse_colnames\u001b[0m\u001b[1;33m=\u001b[0m\u001b[1;32mTrue\u001b[0m\u001b[1;33m)\u001b[0m\u001b[1;33m\u001b[0m\u001b[1;33m\u001b[0m\u001b[0m\n\u001b[0m\u001b[0;32m      6\u001b[0m \u001b[0mrules\u001b[0m \u001b[1;33m=\u001b[0m \u001b[0massociation_rules\u001b[0m\u001b[1;33m(\u001b[0m\u001b[0mfrequent_itemsets\u001b[0m\u001b[1;33m,\u001b[0m \u001b[0mmetric\u001b[0m\u001b[1;33m=\u001b[0m\u001b[1;34m\"confidence\"\u001b[0m\u001b[1;33m,\u001b[0m \u001b[0mmin_threshold\u001b[0m\u001b[1;33m=\u001b[0m\u001b[1;36m0.75\u001b[0m\u001b[1;33m)\u001b[0m\u001b[1;33m\u001b[0m\u001b[1;33m\u001b[0m\u001b[0m\n\u001b[0;32m      7\u001b[0m \u001b[0mrules\u001b[0m \u001b[1;33m=\u001b[0m \u001b[0mrules\u001b[0m\u001b[1;33m[\u001b[0m\u001b[1;33m(\u001b[0m\u001b[0mrules\u001b[0m\u001b[1;33m[\u001b[0m\u001b[1;34m'lift'\u001b[0m\u001b[1;33m]\u001b[0m\u001b[1;33m>\u001b[0m\u001b[1;36m1\u001b[0m\u001b[1;33m)\u001b[0m\u001b[1;33m]\u001b[0m\u001b[1;33m\u001b[0m\u001b[1;33m\u001b[0m\u001b[0m\n",
      "\u001b[1;32m~\\anaconda3\\envs\\Business_case2\\lib\\site-packages\\mlxtend\\frequent_patterns\\apriori.py\u001b[0m in \u001b[0;36mapriori\u001b[1;34m(df, min_support, use_colnames, max_len, verbose, low_memory)\u001b[0m\n\u001b[0;32m    300\u001b[0m                     \u001b[0m_bools\u001b[0m \u001b[1;33m=\u001b[0m \u001b[0m_bools\u001b[0m \u001b[1;33m&\u001b[0m \u001b[1;33m(\u001b[0m\u001b[0mX\u001b[0m\u001b[1;33m[\u001b[0m\u001b[1;33m:\u001b[0m\u001b[1;33m,\u001b[0m \u001b[0mcombin\u001b[0m\u001b[1;33m[\u001b[0m\u001b[1;33m:\u001b[0m\u001b[1;33m,\u001b[0m \u001b[0mn\u001b[0m\u001b[1;33m]\u001b[0m\u001b[1;33m]\u001b[0m \u001b[1;33m==\u001b[0m \u001b[0mall_ones\u001b[0m\u001b[1;33m)\u001b[0m\u001b[1;33m\u001b[0m\u001b[1;33m\u001b[0m\u001b[0m\n\u001b[0;32m    301\u001b[0m             \u001b[1;32melse\u001b[0m\u001b[1;33m:\u001b[0m\u001b[1;33m\u001b[0m\u001b[1;33m\u001b[0m\u001b[0m\n\u001b[1;32m--> 302\u001b[1;33m                 \u001b[0m_bools\u001b[0m \u001b[1;33m=\u001b[0m \u001b[0mnp\u001b[0m\u001b[1;33m.\u001b[0m\u001b[0mall\u001b[0m\u001b[1;33m(\u001b[0m\u001b[0mX\u001b[0m\u001b[1;33m[\u001b[0m\u001b[1;33m:\u001b[0m\u001b[1;33m,\u001b[0m \u001b[0mcombin\u001b[0m\u001b[1;33m]\u001b[0m\u001b[1;33m,\u001b[0m \u001b[0maxis\u001b[0m\u001b[1;33m=\u001b[0m\u001b[1;36m2\u001b[0m\u001b[1;33m)\u001b[0m\u001b[1;33m\u001b[0m\u001b[1;33m\u001b[0m\u001b[0m\n\u001b[0m\u001b[0;32m    303\u001b[0m \u001b[1;33m\u001b[0m\u001b[0m\n\u001b[0;32m    304\u001b[0m             \u001b[0msupport\u001b[0m \u001b[1;33m=\u001b[0m \u001b[0m_support\u001b[0m\u001b[1;33m(\u001b[0m\u001b[0mnp\u001b[0m\u001b[1;33m.\u001b[0m\u001b[0marray\u001b[0m\u001b[1;33m(\u001b[0m\u001b[0m_bools\u001b[0m\u001b[1;33m)\u001b[0m\u001b[1;33m,\u001b[0m \u001b[0mrows_count\u001b[0m\u001b[1;33m,\u001b[0m \u001b[0mis_sparse\u001b[0m\u001b[1;33m)\u001b[0m\u001b[1;33m\u001b[0m\u001b[1;33m\u001b[0m\u001b[0m\n",
      "\u001b[1;31mMemoryError\u001b[0m: Unable to allocate 4.30 GiB for an array with shape (1826, 3, 105273) and data type int64"
     ]
    }
   ],
   "source": [
    "df_AR = pd.merge(orders, orderProducts, how='left', on='order_id')\n",
    "df_AR = pd.merge(df_AR, products, how='left', on='product_id')\n",
    "basket = (df_AR.groupby(['user_id', 'product_name'])['order_number'].count().unstack().reset_index().fillna(0).set_index('user_id'))\n",
    "basket_sets = basket.applymap(encode_units)\n",
    "frequent_itemsets = apriori(basket_sets, min_support=0.07, use_colnames=True)\n",
    "rules = association_rules(frequent_itemsets, metric=\"confidence\", min_threshold=0.75)\n",
    "rules = rules[(rules['lift']>1)]\n",
    "rules[\"antecedents\"] = rules[\"antecedents\"].apply(lambda x: [i.replace('(','') for i in x])\n",
    "rules[\"antecedents\"] = rules[\"antecedents\"].apply(lambda x: [i.replace(')','') for i in x])\n",
    "rules[\"antecedents\"] = rules[\"antecedents\"].astype(str)\n",
    "rules[\"antecedents\"] = rules[\"antecedents\"].str.strip(\"[]\")\n",
    "rules[\"consequents\"] = rules[\"consequents\"].apply(lambda x: [i.replace('(','') for i in x])\n",
    "rules[\"consequents\"] = rules[\"consequents\"].apply(lambda x: [i.replace(')','') for i in x])\n",
    "rules[\"consequents\"] = rules[\"consequents\"].astype(str)\n",
    "rules[\"consequents\"] = rules[\"consequents\"].str.strip(\"[]\")\n",
    "rules.sort_values(by=['confidence'], ascending=False, inplace=True)"
   ]
  },
  {
   "cell_type": "code",
   "execution_count": 32,
   "metadata": {},
   "outputs": [
    {
     "data": {
      "text/html": [
       "<div>\n",
       "<style scoped>\n",
       "    .dataframe tbody tr th:only-of-type {\n",
       "        vertical-align: middle;\n",
       "    }\n",
       "\n",
       "    .dataframe tbody tr th {\n",
       "        vertical-align: top;\n",
       "    }\n",
       "\n",
       "    .dataframe thead th {\n",
       "        text-align: right;\n",
       "    }\n",
       "</style>\n",
       "<table border=\"1\" class=\"dataframe\">\n",
       "  <thead>\n",
       "    <tr style=\"text-align: right;\">\n",
       "      <th></th>\n",
       "      <th>antecedents</th>\n",
       "      <th>consequents</th>\n",
       "      <th>antecedent support</th>\n",
       "      <th>consequent support</th>\n",
       "      <th>support</th>\n",
       "      <th>confidence</th>\n",
       "      <th>lift</th>\n",
       "      <th>leverage</th>\n",
       "      <th>conviction</th>\n",
       "    </tr>\n",
       "  </thead>\n",
       "  <tbody>\n",
       "    <tr>\n",
       "      <th>201</th>\n",
       "      <td>'fresh herbs', 'fresh fruits', 'packaged veget...</td>\n",
       "      <td>'fresh vegetables'</td>\n",
       "      <td>0.092236</td>\n",
       "      <td>0.534468</td>\n",
       "      <td>0.088532</td>\n",
       "      <td>0.959835</td>\n",
       "      <td>1.795872</td>\n",
       "      <td>0.039234</td>\n",
       "      <td>11.590565</td>\n",
       "    </tr>\n",
       "    <tr>\n",
       "      <th>257</th>\n",
       "      <td>'packaged vegetables fruits', 'milk', 'yogurt'...</td>\n",
       "      <td>'fresh fruits'</td>\n",
       "      <td>0.088665</td>\n",
       "      <td>0.634759</td>\n",
       "      <td>0.084267</td>\n",
       "      <td>0.950396</td>\n",
       "      <td>1.497255</td>\n",
       "      <td>0.027986</td>\n",
       "      <td>7.363192</td>\n",
       "    </tr>\n",
       "    <tr>\n",
       "      <th>144</th>\n",
       "      <td>'fresh herbs', 'packaged vegetables fruits'</td>\n",
       "      <td>'fresh vegetables'</td>\n",
       "      <td>0.101536</td>\n",
       "      <td>0.534468</td>\n",
       "      <td>0.096292</td>\n",
       "      <td>0.948358</td>\n",
       "      <td>1.774398</td>\n",
       "      <td>0.042025</td>\n",
       "      <td>9.014632</td>\n",
       "    </tr>\n",
       "    <tr>\n",
       "      <th>261</th>\n",
       "      <td>'packaged vegetables fruits', 'packaged cheese...</td>\n",
       "      <td>'fresh fruits'</td>\n",
       "      <td>0.098458</td>\n",
       "      <td>0.634759</td>\n",
       "      <td>0.092721</td>\n",
       "      <td>0.941727</td>\n",
       "      <td>1.483597</td>\n",
       "      <td>0.030224</td>\n",
       "      <td>6.267751</td>\n",
       "    </tr>\n",
       "    <tr>\n",
       "      <th>253</th>\n",
       "      <td>'packaged vegetables fruits', 'milk', 'package...</td>\n",
       "      <td>'fresh fruits'</td>\n",
       "      <td>0.082709</td>\n",
       "      <td>0.634759</td>\n",
       "      <td>0.077712</td>\n",
       "      <td>0.939589</td>\n",
       "      <td>1.480229</td>\n",
       "      <td>0.025212</td>\n",
       "      <td>6.045917</td>\n",
       "    </tr>\n",
       "  </tbody>\n",
       "</table>\n",
       "</div>"
      ],
      "text/plain": [
       "                                           antecedents         consequents  \\\n",
       "201  'fresh herbs', 'fresh fruits', 'packaged veget...  'fresh vegetables'   \n",
       "257  'packaged vegetables fruits', 'milk', 'yogurt'...      'fresh fruits'   \n",
       "144        'fresh herbs', 'packaged vegetables fruits'  'fresh vegetables'   \n",
       "261  'packaged vegetables fruits', 'packaged cheese...      'fresh fruits'   \n",
       "253  'packaged vegetables fruits', 'milk', 'package...      'fresh fruits'   \n",
       "\n",
       "     antecedent support  consequent support   support  confidence      lift  \\\n",
       "201            0.092236            0.534468  0.088532    0.959835  1.795872   \n",
       "257            0.088665            0.634759  0.084267    0.950396  1.497255   \n",
       "144            0.101536            0.534468  0.096292    0.948358  1.774398   \n",
       "261            0.098458            0.634759  0.092721    0.941727  1.483597   \n",
       "253            0.082709            0.634759  0.077712    0.939589  1.480229   \n",
       "\n",
       "     leverage  conviction  \n",
       "201  0.039234   11.590565  \n",
       "257  0.027986    7.363192  \n",
       "144  0.042025    9.014632  \n",
       "261  0.030224    6.267751  \n",
       "253  0.025212    6.045917  "
      ]
     },
     "execution_count": 32,
     "metadata": {},
     "output_type": "execute_result"
    }
   ],
   "source": [
    "rules=pd.read_csv('Rules.csv',index_col=0)\n",
    "rules.head()"
   ]
  },
  {
   "cell_type": "code",
   "execution_count": 42,
   "metadata": {},
   "outputs": [],
   "source": [
    "def recommender_system(prod):\n",
    "    y = rules.loc[rules[\"antecedents\"]==(\"'\"+ prod + \"'\")]\n",
    "    if len(y)!=0:\n",
    "        return print(\"Recommended product:\", y[\"consequents\"].values[0])\n",
    "    else:\n",
    "        return 'No recommendation available'"
   ]
  },
  {
   "cell_type": "code",
   "execution_count": 43,
   "metadata": {},
   "outputs": [
    {
     "name": "stdout",
     "output_type": "stream",
     "text": [
      "Recommended product: 'fresh fruits'\n"
     ]
    }
   ],
   "source": [
    "recommender_system(\"milk\")"
   ]
  },
  {
   "cell_type": "code",
   "execution_count": 44,
   "metadata": {},
   "outputs": [
    {
     "data": {
      "text/plain": [
       "'No recommendation available'"
      ]
     },
     "execution_count": 44,
     "metadata": {},
     "output_type": "execute_result"
    }
   ],
   "source": [
    "recommender_system(\"asian foods\")"
   ]
  },
  {
   "cell_type": "code",
   "execution_count": 45,
   "metadata": {},
   "outputs": [
    {
     "name": "stdout",
     "output_type": "stream",
     "text": [
      "Recommended product: 'fresh fruits'\n"
     ]
    }
   ],
   "source": [
    "recommender_system(\"packaged vegetables fruits\")"
   ]
  },
  {
   "cell_type": "code",
   "execution_count": 47,
   "metadata": {},
   "outputs": [
    {
     "name": "stdout",
     "output_type": "stream",
     "text": [
      "Recommended product: 'fresh fruits'\n"
     ]
    }
   ],
   "source": [
    "recommender_system(\"frozen produce\")"
   ]
  },
  {
   "cell_type": "code",
   "execution_count": 50,
   "metadata": {},
   "outputs": [
    {
     "name": "stdout",
     "output_type": "stream",
     "text": [
      "Recommended product: 'fresh vegetables'\n"
     ]
    }
   ],
   "source": [
    "recommender_system(\"fresh herbs\")"
   ]
  },
  {
   "cell_type": "code",
   "execution_count": 56,
   "metadata": {},
   "outputs": [
    {
     "data": {
      "text/plain": [
       "'No recommendation available'"
      ]
     },
     "execution_count": 56,
     "metadata": {},
     "output_type": "execute_result"
    }
   ],
   "source": [
    "recommender_system(\"fresh fruits\")"
   ]
  },
  {
   "cell_type": "code",
   "execution_count": 59,
   "metadata": {},
   "outputs": [
    {
     "data": {
      "text/html": [
       "<div>\n",
       "<style scoped>\n",
       "    .dataframe tbody tr th:only-of-type {\n",
       "        vertical-align: middle;\n",
       "    }\n",
       "\n",
       "    .dataframe tbody tr th {\n",
       "        vertical-align: top;\n",
       "    }\n",
       "\n",
       "    .dataframe thead th {\n",
       "        text-align: right;\n",
       "    }\n",
       "</style>\n",
       "<table border=\"1\" class=\"dataframe\">\n",
       "  <thead>\n",
       "    <tr style=\"text-align: right;\">\n",
       "      <th></th>\n",
       "      <th>antecedents</th>\n",
       "      <th>consequents</th>\n",
       "      <th>antecedent support</th>\n",
       "      <th>consequent support</th>\n",
       "      <th>support</th>\n",
       "      <th>confidence</th>\n",
       "      <th>lift</th>\n",
       "      <th>leverage</th>\n",
       "      <th>conviction</th>\n",
       "    </tr>\n",
       "  </thead>\n",
       "  <tbody>\n",
       "    <tr>\n",
       "      <th>214</th>\n",
       "      <td>'fresh fruits', 'milk', 'fresh vegetables'</td>\n",
       "      <td>'packaged vegetables fruits'</td>\n",
       "      <td>0.169597</td>\n",
       "      <td>0.467641</td>\n",
       "      <td>0.128267</td>\n",
       "      <td>0.756301</td>\n",
       "      <td>1.617268</td>\n",
       "      <td>0.048956</td>\n",
       "      <td>2.184494</td>\n",
       "    </tr>\n",
       "    <tr>\n",
       "      <th>185</th>\n",
       "      <td>'fresh fruits', 'chips pretzels', 'packaged ch...</td>\n",
       "      <td>'packaged vegetables fruits'</td>\n",
       "      <td>0.093082</td>\n",
       "      <td>0.467641</td>\n",
       "      <td>0.070303</td>\n",
       "      <td>0.755281</td>\n",
       "      <td>1.615087</td>\n",
       "      <td>0.026774</td>\n",
       "      <td>2.175389</td>\n",
       "    </tr>\n",
       "    <tr>\n",
       "      <th>176</th>\n",
       "      <td>'bread', 'fresh fruits', 'yogurt'</td>\n",
       "      <td>'packaged vegetables fruits'</td>\n",
       "      <td>0.100216</td>\n",
       "      <td>0.467641</td>\n",
       "      <td>0.075689</td>\n",
       "      <td>0.755261</td>\n",
       "      <td>1.615043</td>\n",
       "      <td>0.028824</td>\n",
       "      <td>2.175207</td>\n",
       "    </tr>\n",
       "    <tr>\n",
       "      <th>8</th>\n",
       "      <td>'condiments'</td>\n",
       "      <td>'fresh fruits'</td>\n",
       "      <td>0.101678</td>\n",
       "      <td>0.634759</td>\n",
       "      <td>0.076781</td>\n",
       "      <td>0.755138</td>\n",
       "      <td>1.189645</td>\n",
       "      <td>0.012240</td>\n",
       "      <td>1.491621</td>\n",
       "    </tr>\n",
       "    <tr>\n",
       "      <th>37</th>\n",
       "      <td>'oils vinegars'</td>\n",
       "      <td>'fresh vegetables'</td>\n",
       "      <td>0.113476</td>\n",
       "      <td>0.534468</td>\n",
       "      <td>0.085653</td>\n",
       "      <td>0.754813</td>\n",
       "      <td>1.412272</td>\n",
       "      <td>0.025004</td>\n",
       "      <td>1.898686</td>\n",
       "    </tr>\n",
       "    <tr>\n",
       "      <th>28</th>\n",
       "      <td>'refrigerated'</td>\n",
       "      <td>'fresh fruits'</td>\n",
       "      <td>0.184976</td>\n",
       "      <td>0.634759</td>\n",
       "      <td>0.139456</td>\n",
       "      <td>0.753916</td>\n",
       "      <td>1.187719</td>\n",
       "      <td>0.022041</td>\n",
       "      <td>1.484210</td>\n",
       "    </tr>\n",
       "    <tr>\n",
       "      <th>150</th>\n",
       "      <td>'lunch meat', 'fresh vegetables'</td>\n",
       "      <td>'packaged vegetables fruits'</td>\n",
       "      <td>0.107767</td>\n",
       "      <td>0.467641</td>\n",
       "      <td>0.081246</td>\n",
       "      <td>0.753900</td>\n",
       "      <td>1.612134</td>\n",
       "      <td>0.030849</td>\n",
       "      <td>2.163184</td>\n",
       "    </tr>\n",
       "    <tr>\n",
       "      <th>262</th>\n",
       "      <td>'packaged cheese', 'yogurt', 'fresh vegetables'</td>\n",
       "      <td>'fresh fruits', 'packaged vegetables fruits'</td>\n",
       "      <td>0.123004</td>\n",
       "      <td>0.380430</td>\n",
       "      <td>0.092721</td>\n",
       "      <td>0.753803</td>\n",
       "      <td>1.981451</td>\n",
       "      <td>0.045926</td>\n",
       "      <td>2.516566</td>\n",
       "    </tr>\n",
       "    <tr>\n",
       "      <th>19</th>\n",
       "      <td>'hot dogs bacon sausage'</td>\n",
       "      <td>'fresh fruits'</td>\n",
       "      <td>0.130071</td>\n",
       "      <td>0.634759</td>\n",
       "      <td>0.098002</td>\n",
       "      <td>0.753451</td>\n",
       "      <td>1.186987</td>\n",
       "      <td>0.015438</td>\n",
       "      <td>1.481411</td>\n",
       "    </tr>\n",
       "    <tr>\n",
       "      <th>0</th>\n",
       "      <td>'baking ingredients'</td>\n",
       "      <td>'fresh fruits'</td>\n",
       "      <td>0.124866</td>\n",
       "      <td>0.634759</td>\n",
       "      <td>0.094041</td>\n",
       "      <td>0.753138</td>\n",
       "      <td>1.186494</td>\n",
       "      <td>0.014781</td>\n",
       "      <td>1.479535</td>\n",
       "    </tr>\n",
       "    <tr>\n",
       "      <th>163</th>\n",
       "      <td>'soy lactosefree', 'yogurt'</td>\n",
       "      <td>'fresh vegetables'</td>\n",
       "      <td>0.106210</td>\n",
       "      <td>0.534468</td>\n",
       "      <td>0.079954</td>\n",
       "      <td>0.752795</td>\n",
       "      <td>1.408495</td>\n",
       "      <td>0.023188</td>\n",
       "      <td>1.883183</td>\n",
       "    </tr>\n",
       "    <tr>\n",
       "      <th>161</th>\n",
       "      <td>'water seltzer sparkling water', 'packaged veg...</td>\n",
       "      <td>'fresh vegetables'</td>\n",
       "      <td>0.133937</td>\n",
       "      <td>0.534468</td>\n",
       "      <td>0.100643</td>\n",
       "      <td>0.751418</td>\n",
       "      <td>1.405920</td>\n",
       "      <td>0.029058</td>\n",
       "      <td>1.872755</td>\n",
       "    </tr>\n",
       "    <tr>\n",
       "      <th>36</th>\n",
       "      <td>'frozen produce'</td>\n",
       "      <td>'fresh vegetables'</td>\n",
       "      <td>0.185299</td>\n",
       "      <td>0.534468</td>\n",
       "      <td>0.139133</td>\n",
       "      <td>0.750859</td>\n",
       "      <td>1.404872</td>\n",
       "      <td>0.040097</td>\n",
       "      <td>1.868548</td>\n",
       "    </tr>\n",
       "    <tr>\n",
       "      <th>187</th>\n",
       "      <td>'fresh fruits', 'chips pretzels', 'yogurt'</td>\n",
       "      <td>'packaged vegetables fruits'</td>\n",
       "      <td>0.094440</td>\n",
       "      <td>0.467641</td>\n",
       "      <td>0.070873</td>\n",
       "      <td>0.750453</td>\n",
       "      <td>1.604761</td>\n",
       "      <td>0.026709</td>\n",
       "      <td>2.133297</td>\n",
       "    </tr>\n",
       "  </tbody>\n",
       "</table>\n",
       "</div>"
      ],
      "text/plain": [
       "                                           antecedents  \\\n",
       "214         'fresh fruits', 'milk', 'fresh vegetables'   \n",
       "185  'fresh fruits', 'chips pretzels', 'packaged ch...   \n",
       "176                  'bread', 'fresh fruits', 'yogurt'   \n",
       "8                                         'condiments'   \n",
       "37                                     'oils vinegars'   \n",
       "28                                      'refrigerated'   \n",
       "150                   'lunch meat', 'fresh vegetables'   \n",
       "262    'packaged cheese', 'yogurt', 'fresh vegetables'   \n",
       "19                            'hot dogs bacon sausage'   \n",
       "0                                 'baking ingredients'   \n",
       "163                        'soy lactosefree', 'yogurt'   \n",
       "161  'water seltzer sparkling water', 'packaged veg...   \n",
       "36                                    'frozen produce'   \n",
       "187         'fresh fruits', 'chips pretzels', 'yogurt'   \n",
       "\n",
       "                                      consequents  antecedent support  \\\n",
       "214                  'packaged vegetables fruits'            0.169597   \n",
       "185                  'packaged vegetables fruits'            0.093082   \n",
       "176                  'packaged vegetables fruits'            0.100216   \n",
       "8                                  'fresh fruits'            0.101678   \n",
       "37                             'fresh vegetables'            0.113476   \n",
       "28                                 'fresh fruits'            0.184976   \n",
       "150                  'packaged vegetables fruits'            0.107767   \n",
       "262  'fresh fruits', 'packaged vegetables fruits'            0.123004   \n",
       "19                                 'fresh fruits'            0.130071   \n",
       "0                                  'fresh fruits'            0.124866   \n",
       "163                            'fresh vegetables'            0.106210   \n",
       "161                            'fresh vegetables'            0.133937   \n",
       "36                             'fresh vegetables'            0.185299   \n",
       "187                  'packaged vegetables fruits'            0.094440   \n",
       "\n",
       "     consequent support   support  confidence      lift  leverage  conviction  \n",
       "214            0.467641  0.128267    0.756301  1.617268  0.048956    2.184494  \n",
       "185            0.467641  0.070303    0.755281  1.615087  0.026774    2.175389  \n",
       "176            0.467641  0.075689    0.755261  1.615043  0.028824    2.175207  \n",
       "8              0.634759  0.076781    0.755138  1.189645  0.012240    1.491621  \n",
       "37             0.534468  0.085653    0.754813  1.412272  0.025004    1.898686  \n",
       "28             0.634759  0.139456    0.753916  1.187719  0.022041    1.484210  \n",
       "150            0.467641  0.081246    0.753900  1.612134  0.030849    2.163184  \n",
       "262            0.380430  0.092721    0.753803  1.981451  0.045926    2.516566  \n",
       "19             0.634759  0.098002    0.753451  1.186987  0.015438    1.481411  \n",
       "0              0.634759  0.094041    0.753138  1.186494  0.014781    1.479535  \n",
       "163            0.534468  0.079954    0.752795  1.408495  0.023188    1.883183  \n",
       "161            0.534468  0.100643    0.751418  1.405920  0.029058    1.872755  \n",
       "36             0.534468  0.139133    0.750859  1.404872  0.040097    1.868548  \n",
       "187            0.467641  0.070873    0.750453  1.604761  0.026709    2.133297  "
      ]
     },
     "execution_count": 59,
     "metadata": {},
     "output_type": "execute_result"
    }
   ],
   "source": [
    "rules.iloc[250:,:]"
   ]
  },
  {
   "cell_type": "code",
   "execution_count": null,
   "metadata": {},
   "outputs": [],
   "source": []
  }
 ],
 "metadata": {
  "kernelspec": {
   "display_name": "Python 3",
   "language": "python",
   "name": "python3"
  },
  "language_info": {
   "codemirror_mode": {
    "name": "ipython",
    "version": 3
   },
   "file_extension": ".py",
   "mimetype": "text/x-python",
   "name": "python",
   "nbconvert_exporter": "python",
   "pygments_lexer": "ipython3",
   "version": "3.8.8"
  }
 },
 "nbformat": 4,
 "nbformat_minor": 4
}
